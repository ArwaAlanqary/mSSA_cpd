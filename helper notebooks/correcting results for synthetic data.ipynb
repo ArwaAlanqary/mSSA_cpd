{
 "cells": [
  {
   "cell_type": "code",
   "execution_count": 28,
   "metadata": {},
   "outputs": [],
   "source": [
    "import os\n",
    "import sys\n",
    "sys.path.append(os.path.join(os.path.dirname(os.getcwd()), 'evaluation'))"
   ]
  },
  {
   "cell_type": "code",
   "execution_count": 30,
   "metadata": {},
   "outputs": [],
   "source": [
    "from scipy.io import arff\n",
    "import pandas as pd\n",
    "import matplotlib.pyplot as plt\n",
    "import numpy as np\n",
    "import json\n",
    "import glob\n",
    "from classification import compute_f1_score"
   ]
  },
  {
   "cell_type": "code",
   "execution_count": 52,
   "metadata": {},
   "outputs": [],
   "source": [
    "def json_converter(obj):\n",
    "        if isinstance(obj, np.integer):\n",
    "            return int(obj)\n",
    "        elif isinstance(obj, np.floating):\n",
    "            return float(obj)\n",
    "        elif isinstance(obj, np.ndarray):\n",
    "            return obj.tolist()\n",
    "        elif isinstance(obj, datetime.datetime):\n",
    "            return obj.__str__()"
   ]
  },
  {
   "cell_type": "code",
   "execution_count": 50,
   "metadata": {},
   "outputs": [
    {
     "name": "stdout",
     "output_type": "stream",
     "text": [
      "energy12 old: 0.9090909090909091  new: 1.0\n",
      "energy19 old: 0.9090909090909091  new: 1.0\n",
      "energy7 old: 0.9090909090909091  new: 1.0\n",
      "energy14 old: 0.6  new: 0.6666666666666665\n",
      "energy15 old: 0.8  new: 0.888888888888889\n",
      "energy10 old: 0.7272727272727272  new: 0.8000000000000002\n",
      "energy13 old: 0.9090909090909091  new: 1.0\n",
      "energy8 old: 0.8  new: 0.888888888888889\n",
      "energy0 old: 0.8333333333333334  new: 0.9090909090909091\n",
      "energy16 old: 0.5454545454545454  new: 0.6\n",
      "energy9 old: 0.9090909090909091  new: 1.0\n",
      "energy17 old: 0.9090909090909091  new: 1.0\n",
      "energy11 old: 0.8333333333333334  new: 0.7272727272727272\n",
      "energy2 old: 0.6666666666666666  new: 0.7272727272727272\n",
      "energy5 old: 0.6153846153846153  new: 0.6666666666666666\n",
      "energy4 old: 0.9090909090909091  new: 0.8000000000000002\n",
      "energy18 old: 0.6  new: 0.6666666666666665\n",
      "energy3 old: 0.7272727272727272  new: 0.8000000000000002\n",
      "energy1 old: 0.9090909090909091  new: 1.0\n",
      "energy6 old: 0.5454545454545454  new: 0.6\n"
     ]
    }
   ],
   "source": [
    "data_set = 'struct'\n",
    "algorithm = 'hybrid_cusum'\n",
    "results_path = os.path.join(os.path.dirname(os.getcwd()), 'results', 'test', algorithm, data_set)\n",
    "data_path = os.path.join(os.path.dirname(os.getcwd()), 'data', data_set)\n",
    "list_of_results = glob.glob(os.path.join(results_path, \"*.json\"))\n",
    "for result in list_of_results:\n",
    "    with open(result) as file:\n",
    "        results_dict = json.load(file)\n",
    "    ts_name = results_dict['data_name']\n",
    "    detected = np.array(results_dict['cp'])\n",
    "    labels = pd.read_csv(os.path.join(data_path, \"{}_labels.csv\".format(ts_name)), header=None)\n",
    "    corrected_f1 = compute_f1_score(labels.values[:-1, :], detected, 10)\n",
    "    print(ts_name + \" old: \" + str(results_dict['score']['value']), \" new: \" + str(corrected_f1))\n",
    "    results_dict['score']['value'] = corrected_f1\n",
    "    with open(result, 'w') as file:\n",
    "        json.dump(results, file, default=json_converter)"
   ]
  }
 ],
 "metadata": {
  "kernelspec": {
   "display_name": "Python 3",
   "language": "python",
   "name": "python3"
  },
  "language_info": {
   "codemirror_mode": {
    "name": "ipython",
    "version": 3
   },
   "file_extension": ".py",
   "mimetype": "text/x-python",
   "name": "python",
   "nbconvert_exporter": "python",
   "pygments_lexer": "ipython3",
   "version": "3.7.6"
  }
 },
 "nbformat": 4,
 "nbformat_minor": 4
}

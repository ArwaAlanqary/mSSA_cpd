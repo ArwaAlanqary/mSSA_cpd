{
 "cells": [
  {
   "cell_type": "code",
   "execution_count": 1,
   "metadata": {},
   "outputs": [],
   "source": [
    "from scipy.io import arff\n",
    "import pandas as pd\n",
    "import matplotlib.pyplot as plt\n",
    "import os\n",
    "import numpy as np\n"
   ]
  },
  {
   "cell_type": "markdown",
   "metadata": {},
   "source": [
    "## Human activity\n"
   ]
  },
  {
   "cell_type": "code",
   "execution_count": 9,
   "metadata": {},
   "outputs": [],
   "source": [
    "data_names = list(range(1001, 1019))\n",
    "for data in data_names: \n",
    "    data_path = os.path.join(os.path.dirname(os.getcwd()), 'data', 'hasc', 'raw', 'SampleData', '0_sequence')\n",
    "    df = pd.read_csv(os.path.join(data_path, \"HASC{}.csv\".format(data)), header=None)\n",
    "    df.reset_index(inplace=True)\n",
    "    ts = df[[1,2,3]].values\n",
    "    ts = pd.DataFrame(ts)\n",
    "    ts.reset_index(inplace=True)\n",
    "    processed_data_path = os.path.join(os.path.dirname(os.getcwd()), 'data', 'hasc')\n",
    "    ts.to_csv(path_or_buf = os.path.join(processed_data_path, 'HASC{}_ts.csv'.format(data)), columns=['index', 0,1,2], index=False, header=False)\n",
    "    # Labels\n",
    "    labels = pd.read_csv(os.path.join(data_path, \"HASC{}.label\".format(data)), skiprows=1, header=None)\n",
    "    labels.head()\n",
    "    new_labels = []\n",
    "    for i, row in labels.iterrows():\n",
    "        start = df[df[0]<=row[0]].index.values[-1]\n",
    "        end = df[df[0]<=row[1]].index.values[-1]\n",
    "        new_labels.append((start, end))\n",
    "    new_labels = pd.DataFrame(new_labels)\n",
    "    new_labels.to_csv(path_or_buf = os.path.join(processed_data_path, \"HASC{}_labels.csv\".format(data)), index=False, header=False)\n",
    "    "
   ]
  }
 ],
 "metadata": {
  "kernelspec": {
   "display_name": "Python 3",
   "language": "python",
   "name": "python3"
  },
  "language_info": {
   "codemirror_mode": {
    "name": "ipython",
    "version": 3
   },
   "file_extension": ".py",
   "mimetype": "text/x-python",
   "name": "python",
   "nbconvert_exporter": "python",
   "pygments_lexer": "ipython3",
   "version": "3.7.6"
  }
 },
 "nbformat": 4,
 "nbformat_minor": 2
}

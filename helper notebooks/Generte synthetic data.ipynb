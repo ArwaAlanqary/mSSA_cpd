{
 "cells": [
  {
   "cell_type": "code",
   "execution_count": 182,
   "metadata": {},
   "outputs": [],
   "source": [
    "from scipy.io import arff\n",
    "import pandas as pd\n",
    "import matplotlib.pyplot as plt\n",
    "import os\n",
    "import numpy as np\n",
    "import json"
   ]
  },
  {
   "cell_type": "markdown",
   "metadata": {},
   "source": [
    "## Synthetic ts"
   ]
  },
  {
   "cell_type": "code",
   "execution_count": 183,
   "metadata": {},
   "outputs": [],
   "source": [
    "def generate_ARHT(t_0, T, num_harmonics = 0, coeffs = None, periods = None, max_period = 100, min_period = 0,\n",
    "                  trend = False, power = 0, const = 0, var = 1):\n",
    "    signal = np.zeros(T - t_0 + 1)\n",
    "    t = np.arange(t_0,T+1)\n",
    "    if num_harmonics: #todo: Check consistant number of harmonics length of coeffs and periods\n",
    "        if coeffs is None:\n",
    "            coeffs = 2 * np.random.random(harmonics_components) + 0.3\n",
    "        if periods is None:\n",
    "            sine_periods = ((max_period-min_period)* np.random.random(num_harmonics) + min_period)\n",
    "        for i in range(num_harmonics): \n",
    "            signal += coeffs[i] * np.sin((t/(T - t_0 + 1))*periods[i]*2.0*np.pi)\n",
    "    if trend: #add more trend types\n",
    "        signal += t**power\n",
    "    if const: \n",
    "        signal += const\n",
    "    noise = np.random.normal(0.0, np.sqrt(var), T - t_0 + 1)\n",
    "    noisy_ts = signal + noise\n",
    "    return noisy_ts, signal\n",
    "\n"
   ]
  },
  {
   "cell_type": "code",
   "execution_count": 188,
   "metadata": {},
   "outputs": [],
   "source": [
    "def generate_synthetic(cp_type, cp_number, T, nh, trend, noise_var, power = 0): \n",
    "    ts = np.array([])\n",
    "    tm = np.array([])\n",
    "    if cp_type == 'struct': \n",
    "        const = np.zeros(cp_number)\n",
    "        coeffs = np.tile(np.random.random(nh)*7, cp_number).reshape(cp_number,nh)\n",
    "        periods = np.zeros((cp_number, nh))\n",
    "        for i in range(cp_number): \n",
    "            if i%2==0: \n",
    "                periods[i, :] = 5 + np.random.random(nh) * 30\n",
    "            else: \n",
    "                periods[i, :] = 5 + np.random.random(nh) * 70\n",
    "    if cp_type == 'mean': \n",
    "        const = np.random.random(cp_number) * 10\n",
    "        coeffs = np.tile(np.random.random(nh)*7, cp_number).reshape(cp_number,nh)\n",
    "        periods = np.tile(5+np.random.random((nh))*100, cp_number).reshape(cp_number,nh)\n",
    "    if cp_type == 'energy': \n",
    "        const = np.zeros(cp_number)\n",
    "        periods = np.tile(5+np.random.random((nh))*100, cp_number).reshape(cp_number,nh)\n",
    "        coeffs = np.zeros((cp_number, nh))\n",
    "        for i in range(cp_number): \n",
    "            if i%2==0: \n",
    "                coeffs[i, :] = np.random.random() * 7 * np.ones(nh)\n",
    "            else: \n",
    "                coeffs[i, :] = np.random.random() * 5 * np.ones(nh)\n",
    "    param = {}\n",
    "    for i in range(0, cp_number):\n",
    "        key = 'ts_{}'.format(i)\n",
    "        param[key] = {'periods': periods[i], 'coeffs': coeffs[i], 'conts': const[i], 'noice': noise_var, 'trend_power': power}\n",
    "        ts_, tm_ = generate_ARHT(i*T + 1, (i+1)*T, num_harmonics = nh, coeffs = coeffs[i], periods = periods[i], \n",
    "                                 max_period = 100, min_period = 0, trend = trend, power = power, const = const[i], var = noise_var)\n",
    "        ts = np.append(ts, ts_)\n",
    "        tm = np.append(tm, tm_)\n",
    "    start = np.arange(0, cp_number+1) * T\n",
    "    end = np.arange(1, cp_number+2) * T - 1\n",
    "    new_labels = pd.DataFrame(start)\n",
    "    new_labels[1] = end\n",
    "    return ts, tm, new_labels, param\n",
    "\n",
    "        \n",
    "        \n",
    "        \n",
    "        \n",
    "        "
   ]
  },
  {
   "cell_type": "code",
   "execution_count": 189,
   "metadata": {},
   "outputs": [],
   "source": [
    "def json_converter(obj):\n",
    "        if isinstance(obj, np.integer):\n",
    "            return int(obj)\n",
    "        elif isinstance(obj, np.floating):\n",
    "            return float(obj)\n",
    "        elif isinstance(obj, np.ndarray):\n",
    "            return obj.tolist()\n",
    "        elif isinstance(obj, datetime.datetime):\n",
    "            return obj.__str__()"
   ]
  },
  {
   "cell_type": "code",
   "execution_count": 195,
   "metadata": {},
   "outputs": [],
   "source": [
    "cp_type = 'energy'\n",
    "cp_number = 5 \n",
    "T = 1000\n",
    "nh = 3 \n",
    "trend = False\n",
    "noise_var = 0.01\n",
    "samples = 20\n",
    "data_path = os.path.join(os.path.dirname(os.getcwd()), 'data', 'synth')\n",
    "for sample in range(samples): \n",
    "    ts, tm, labels, param = generate_synthetic(cp_type, cp_number, T, nh, trend, noise_var, power = 0)\n",
    "    df = pd.DataFrame(ts)\n",
    "    df.reset_index(inplace=True)\n",
    "    df.to_csv(path_or_buf=os.path.join(data_path, '{}{}_ts.csv'.format(cp_type, sample)), index=False, header=False)\n",
    "    df = pd.DataFrame(tm)\n",
    "    df.reset_index(inplace=True)\n",
    "    df.to_csv(path_or_buf=os.path.join(data_path, '{}{}_tm.csv'.format(cp_type, sample)), index=False, header=False)\n",
    "    labels.to_csv(path_or_buf=os.path.join(data_path, '{}{}_labels.csv'.format(cp_type, sample)), index=False, header=False)\n",
    "    with open(os.path.join(data_path, '{}{}_param.csv'.format(cp_type, sample)), 'w') as file:\n",
    "        json.dump(param, file, default=json_converter)\n",
    "    "
   ]
  }
 ],
 "metadata": {
  "kernelspec": {
   "display_name": "Python 3",
   "language": "python",
   "name": "python3"
  },
  "language_info": {
   "codemirror_mode": {
    "name": "ipython",
    "version": 3
   },
   "file_extension": ".py",
   "mimetype": "text/x-python",
   "name": "python",
   "nbconvert_exporter": "python",
   "pygments_lexer": "ipython3",
   "version": "3.7.6"
  }
 },
 "nbformat": 4,
 "nbformat_minor": 2
}

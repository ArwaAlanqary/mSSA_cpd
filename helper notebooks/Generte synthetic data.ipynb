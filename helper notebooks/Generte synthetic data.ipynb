{
 "cells": [
  {
   "cell_type": "code",
   "execution_count": 182,
   "metadata": {},
   "outputs": [],
   "source": [
    "from scipy.io import arff\n",
    "import pandas as pd\n",
    "import matplotlib.pyplot as plt\n",
    "import os\n",
    "import numpy as np\n",
    "import json"
   ]
  },
  {
   "cell_type": "markdown",
   "metadata": {},
   "source": [
    "## Synthetic ts"
   ]
  },
  {
   "cell_type": "code",
   "execution_count": 183,
   "metadata": {},
   "outputs": [],
   "source": [
    "def generate_ARHT(t_0, T, num_harmonics = 0, coeffs = None, periods = None, max_period = 100, min_period = 0,\n",
    "                  trend = False, power = 0, const = 0, var = 1):\n",
    "    signal = np.zeros(T - t_0 + 1)\n",
    "    t = np.arange(t_0,T+1)\n",
    "    if num_harmonics: #todo: Check consistant number of harmonics length of coeffs and periods\n",
    "        if coeffs is None:\n",
    "            coeffs = 2 * np.random.random(harmonics_components) + 0.3\n",
    "        if periods is None:\n",
    "            sine_periods = ((max_period-min_period)* np.random.random(num_harmonics) + min_period)\n",
    "        for i in range(num_harmonics): \n",
    "            signal += coeffs[i] * np.sin((t/(T - t_0 + 1))*periods[i]*2.0*np.pi)\n",
    "    if trend: #add more trend types\n",
    "        signal += t**power\n",
    "    if const: \n",
    "        signal += const\n",
    "    noise = np.random.normal(0.0, np.sqrt(var), T - t_0 + 1)\n",
    "    noisy_ts = signal + noise\n",
    "    return noisy_ts, signal\n",
    "\n"
   ]
  },
  {
   "cell_type": "code",
   "execution_count": 188,
   "metadata": {},
   "outputs": [],
   "source": [
    "def generate_synthetic(cp_type, cp_number, T, nh, trend, noise_var, power = 0): \n",
    "    ts = np.array([])\n",
    "    tm = np.array([])\n",
    "    if cp_type == 'struct': \n",
    "        const = np.zeros(cp_number)\n",
    "        coeffs = np.tile(np.random.random(nh)*7, cp_number).reshape(cp_number,nh)\n",
    "        periods = np.zeros((cp_number, nh))\n",
    "        for i in range(cp_number): \n",
    "            if i%2==0: \n",
    "                periods[i, :] = 5 + np.random.random(nh) * 30\n",
    "            else: \n",
    "                periods[i, :] = 5 + np.random.random(nh) * 70\n",
    "    if cp_type == 'mean': \n",
    "        const = np.random.random(cp_number) * 10\n",
    "        coeffs = np.tile(np.random.random(nh)*7, cp_number).reshape(cp_number,nh)\n",
    "        periods = np.tile(5+np.random.random((nh))*100, cp_number).reshape(cp_number,nh)\n",
    "    if cp_type == 'energy': \n",
    "        const = np.zeros(cp_number)\n",
    "        periods = np.tile(5+np.random.random((nh))*100, cp_number).reshape(cp_number,nh)\n",
    "        coeffs = np.zeros((cp_number, nh))\n",
    "        for i in range(cp_number): \n",
    "            if i%2==0: \n",
    "                coeffs[i, :] = np.random.random() * 7 * np.ones(nh)\n",
    "            else: \n",
    "                coeffs[i, :] = np.random.random() * 5 * np.ones(nh)\n",
    "    param = {}\n",
    "    for i in range(0, cp_number):\n",
    "        key = 'ts_{}'.format(i)\n",
    "        param[key] = {'periods': periods[i], 'coeffs': coeffs[i], 'conts': const[i], 'noice': noise_var, 'trend_power': power}\n",
    "        ts_, tm_ = generate_ARHT(i*T + 1, (i+1)*T, num_harmonics = nh, coeffs = coeffs[i], periods = periods[i], \n",
    "                                 max_period = 100, min_period = 0, trend = trend, power = power, const = const[i], var = noise_var)\n",
    "        ts = np.append(ts, ts_)\n",
    "        tm = np.append(tm, tm_)\n",
    "    start = np.arange(0, cp_number+1) * T\n",
    "    end = np.arange(1, cp_number+2) * T - 1\n",
    "    new_labels = pd.DataFrame(start)\n",
    "    new_labels[1] = end\n",
    "    return ts, tm, new_labels, param\n",
    "\n",
    "        \n",
    "        \n",
    "        \n",
    "        \n",
    "        "
   ]
  },
  {
   "cell_type": "code",
   "execution_count": 189,
   "metadata": {},
   "outputs": [],
   "source": [
    "def json_converter(obj):\n",
    "        if isinstance(obj, np.integer):\n",
    "            return int(obj)\n",
    "        elif isinstance(obj, np.floating):\n",
    "            return float(obj)\n",
    "        elif isinstance(obj, np.ndarray):\n",
    "            return obj.tolist()\n",
    "        elif isinstance(obj, datetime.datetime):\n",
    "            return obj.__str__()"
   ]
  },
  {
   "cell_type": "code",
   "execution_count": 195,
   "metadata": {},
   "outputs": [],
   "source": [
    "cp_type = 'energy'\n",
    "cp_number = 5 \n",
    "T = 1000\n",
    "nh = 3 \n",
    "trend = False\n",
    "noise_var = 0.01\n",
    "samples = 20\n",
    "data_path = os.path.join(os.path.dirname(os.getcwd()), 'data', 'synth')\n",
    "for sample in range(samples): \n",
    "    ts, tm, labels, param = generate_synthetic(cp_type, cp_number, T, nh, trend, noise_var, power = 0)\n",
    "    df = pd.DataFrame(ts)\n",
    "    df.reset_index(inplace=True)\n",
    "    df.to_csv(path_or_buf=os.path.join(data_path, '{}{}_ts.csv'.format(cp_type, sample)), index=False, header=False)\n",
    "    df = pd.DataFrame(tm)\n",
    "    df.reset_index(inplace=True)\n",
    "    df.to_csv(path_or_buf=os.path.join(data_path, '{}{}_tm.csv'.format(cp_type, sample)), index=False, header=False)\n",
    "    labels.to_csv(path_or_buf=os.path.join(data_path, '{}{}_labels.csv'.format(cp_type, sample)), index=False, header=False)\n",
    "    with open(os.path.join(data_path, '{}{}_param.csv'.format(cp_type, sample)), 'w') as file:\n",
    "        json.dump(param, file, default=json_converter)\n",
    "    "
   ]
  },
  {
   "cell_type": "code",
   "execution_count": 196,
   "metadata": {},
   "outputs": [
    {
     "data": {
      "text/plain": [
       "[<matplotlib.lines.Line2D at 0x11b96af50>]"
      ]
     },
     "execution_count": 196,
     "metadata": {},
     "output_type": "execute_result"
    },
    {
     "data": {
      "image/png": "[encoded data removed]",
      "text/plain": [
       "<Figure size 432x288 with 1 Axes>"
      ]
     },
     "metadata": {
      "needs_background": "light"
     },
     "output_type": "display_data"
    }
   ],
   "source": [
    "plt.plot(ts)"
   ]
  },
  {
   "cell_type": "code",
   "execution_count": 131,
   "metadata": {},
   "outputs": [
    {
     "name": "stdout",
     "output_type": "stream",
     "text": [
      "[84.11356785 52.80681308 83.06081662]\n"
     ]
    }
   ],
   "source": [
    "dataset = 'energy'\n",
    "T = 1000\n",
    "nh = 3\n",
    "var = 0.01\n",
    "N = 100\n",
    "trend = False \n",
    "power = 0.35\n",
    "const = 0\n",
    "# coeffs = np.random.random(nh) *10\n",
    "periods = 5 + np.random.random(nh) * 100\n",
    "print(periods)\n",
    "param = np.zeros((N+1, nh*2))\n",
    "ts = np.array([])\n",
    "tm = np.array([])\n",
    "for i in range(0, N+1): \n",
    "    param_ = []\n",
    "    if i%2 == 0: \n",
    "#         const = np.random.random() * 10\n",
    "        coeffs = np.random.random()  * 7 * np.ones(nh)\n",
    "#         periods = 5 + np.random.random(nh) * 30\n",
    "    else: \n",
    "#         const = np.random.random() * 10\n",
    "        coeffs = np.random.random() * 5 * np.ones(nh)\n",
    "#         periods = 5 + np.random.random(nh) * 70\n",
    "    ts_, tm_ = generate_ARHT(i*T + 1, (i+1)*T, num_harmonics = nh, coeffs = coeffs, periods = periods, max_period = 100, min_period = 0,\n",
    "                      trend = trend, power = power, const = const, var = var)\n",
    "    param[i] = coeffs.tolist() + periods.tolist()\n",
    "    ts = np.append(ts, ts_)\n",
    "    tm = np.append(tm, tm_)\n",
    "    \n",
    "df = pd.DataFrame(ts)\n",
    "df.reset_index(inplace=True)\n",
    "df.to_csv(path_or_buf='Benchmark/Data/Synthetic {}/ts.csv'.format(dataset), index=False, header=False)\n",
    "df = pd.DataFrame(tm)\n",
    "df.reset_index(inplace=True)\n",
    "df.to_csv(path_or_buf='Benchmark/Data/Synthetic {}/tm.csv'.format(dataset), index=False, header=False)\n",
    "\n",
    "df = pd.DataFrame(param)\n",
    "df.to_csv(path_or_buf='Benchmark/Data/Synthetic {}/param.csv'.format(dataset), index=False, header=False)\n",
    "\n",
    "start = np.arange(0, N+1) * T\n",
    "end = np.arange(1, N+2) * T - 1\n",
    "new_labels = pd.DataFrame(start)\n",
    "new_labels[1] = end\n",
    "new_labels.to_csv(path_or_buf='Benchmark/Data/Synthetic {}/labels.csv'.format(dataset), index=False, header=False)\n"
   ]
  },
  {
   "cell_type": "code",
   "execution_count": 73,
   "metadata": {},
   "outputs": [
    {
     "data": {
      "text/plain": [
       "[<matplotlib.lines.Line2D at 0x1191a1f90>]"
      ]
     },
     "execution_count": 73,
     "metadata": {},
     "output_type": "execute_result"
    },
    {
     "data": {
      "image/png": "[encoded data removed]",
      "text/plain": [
       "<Figure size 1440x288 with 1 Axes>"
      ]
     },
     "metadata": {
      "needs_background": "light"
     },
     "output_type": "display_data"
    }
   ],
   "source": [
    "plt.figure(figsize=[20,4])\n",
    "plt.plot(ts[:5000])"
   ]
  },
  {
   "cell_type": "markdown",
   "metadata": {},
   "source": [
    "## Human activity\n"
   ]
  },
  {
   "cell_type": "code",
   "execution_count": 75,
   "metadata": {},
   "outputs": [],
   "source": [
    "# Norm of coordinates\n",
    "dataset = '03'\n",
    "person = 102\n",
    "df = pd.read_csv(\"Data/HascToolDataPrj/SampleData/0_sequence/person{}/HASC10{}.csv\".format(person,dataset), header=None)\n",
    "df.reset_index(inplace=True)\n",
    "data_array = df[[1,2,3]].values\n",
    "ts = np.linalg.norm(data_array, 2, 1)\n",
    "ts = pd.DataFrame(ts)\n",
    "ts.reset_index(inplace=True)\n",
    "ts.to_csv(path_or_buf='Benchmark/Data/HA {}/ts.csv'.format(dataset), columns=['index', 0], index=False, header=False)\n",
    "\n",
    "\n",
    "# Labels\n",
    "labels = pd.read_csv('Data/HascToolDataPrj/SampleData/0_sequence/person{}/HASC10{}.label'.format(person,dataset), skiprows=1, header=None)\n",
    "labels.head()\n",
    "new_labels = []\n",
    "for i, row in labels.iterrows():\n",
    "    act = row[2]\n",
    "    start = df[df[0]<=row[0]].index.values[-1]\n",
    "    end = df[df[0]<=row[1]].index.values[-1]\n",
    "    new_labels.append((start, end, act))\n",
    "new_labels = pd.DataFrame(new_labels)\n",
    "new_labels.to_csv(path_or_buf='Benchmark/Data/HA {}/labels.csv'.format(dataset), index=False, header=False)\n",
    "\n"
   ]
  },
  {
   "cell_type": "code",
   "execution_count": null,
   "metadata": {},
   "outputs": [],
   "source": []
  },
  {
   "cell_type": "code",
   "execution_count": 22,
   "metadata": {},
   "outputs": [],
   "source": [
    "#original\n",
    "dataset = 1\n",
    "for i in [1,2,3]:\n",
    "    df = pd.read_csv(\"Data/HascToolDataPrj/SampleData/0_sequence/person107/HASC10{}.csv\".format(dataset), header=None)\n",
    "    df.reset_index(inplace=True)\n",
    "    df.head()\n",
    "    df.to_csv(path_or_buf='Data/Processed data/Human activity {}/{}.csv'.format(dataset, i), columns=['index', i], index=False, header=False)\n",
    "    "
   ]
  },
  {
   "cell_type": "code",
   "execution_count": 23,
   "metadata": {},
   "outputs": [],
   "source": [
    "labels = pd.read_csv('Data/HascToolDataPrj/SampleData/0_sequence/person107/HASC10{}.label'.format(dataset), skiprows=1, header=None)\n",
    "new_labels = []\n",
    "for i, row in labels.iterrows():\n",
    "    act = row[2]\n",
    "    start = df[df[0]<=row[0]].index.values[-1]\n",
    "    end = df[df[0]<=row[1]].index.values[-1]\n",
    "    new_labels.append((start, end, act))\n",
    "new_labels = pd.DataFrame(new_labels)\n",
    "new_labels.to_csv(path_or_buf='Data/Processed data/Human activity {}/labels.csv'.format(dataset), index=False, header=False)"
   ]
  },
  {
   "cell_type": "markdown",
   "metadata": {},
   "source": [
    "## EEG Eye Activity Data \n",
    "http://archive.ics.uci.edu/ml/datasets/EEG+Eye+State"
   ]
  },
  {
   "cell_type": "code",
   "execution_count": 19,
   "metadata": {},
   "outputs": [
    {
     "data": {
      "text/html": [
       "<div>\n",
       "<style scoped>\n",
       "    .dataframe tbody tr th:only-of-type {\n",
       "        vertical-align: middle;\n",
       "    }\n",
       "\n",
       "    .dataframe tbody tr th {\n",
       "        vertical-align: top;\n",
       "    }\n",
       "\n",
       "    .dataframe thead th {\n",
       "        text-align: right;\n",
       "    }\n",
       "</style>\n",
       "<table border=\"1\" class=\"dataframe\">\n",
       "  <thead>\n",
       "    <tr style=\"text-align: right;\">\n",
       "      <th></th>\n",
       "      <th>AF3</th>\n",
       "      <th>F7</th>\n",
       "      <th>F3</th>\n",
       "      <th>FC5</th>\n",
       "      <th>T7</th>\n",
       "      <th>P7</th>\n",
       "      <th>O1</th>\n",
       "      <th>O2</th>\n",
       "      <th>P8</th>\n",
       "      <th>T8</th>\n",
       "      <th>FC6</th>\n",
       "      <th>F4</th>\n",
       "      <th>F8</th>\n",
       "      <th>AF4</th>\n",
       "      <th>eyeDetection</th>\n",
       "    </tr>\n",
       "  </thead>\n",
       "  <tbody>\n",
       "    <tr>\n",
       "      <th>0</th>\n",
       "      <td>4329.23</td>\n",
       "      <td>4009.23</td>\n",
       "      <td>4289.23</td>\n",
       "      <td>4148.21</td>\n",
       "      <td>4350.26</td>\n",
       "      <td>4586.15</td>\n",
       "      <td>4096.92</td>\n",
       "      <td>4641.03</td>\n",
       "      <td>4222.05</td>\n",
       "      <td>4238.46</td>\n",
       "      <td>4211.28</td>\n",
       "      <td>4280.51</td>\n",
       "      <td>4635.90</td>\n",
       "      <td>4393.85</td>\n",
       "      <td>b'0'</td>\n",
       "    </tr>\n",
       "    <tr>\n",
       "      <th>1</th>\n",
       "      <td>4324.62</td>\n",
       "      <td>4004.62</td>\n",
       "      <td>4293.85</td>\n",
       "      <td>4148.72</td>\n",
       "      <td>4342.05</td>\n",
       "      <td>4586.67</td>\n",
       "      <td>4097.44</td>\n",
       "      <td>4638.97</td>\n",
       "      <td>4210.77</td>\n",
       "      <td>4226.67</td>\n",
       "      <td>4207.69</td>\n",
       "      <td>4279.49</td>\n",
       "      <td>4632.82</td>\n",
       "      <td>4384.10</td>\n",
       "      <td>b'0'</td>\n",
       "    </tr>\n",
       "    <tr>\n",
       "      <th>2</th>\n",
       "      <td>4327.69</td>\n",
       "      <td>4006.67</td>\n",
       "      <td>4295.38</td>\n",
       "      <td>4156.41</td>\n",
       "      <td>4336.92</td>\n",
       "      <td>4583.59</td>\n",
       "      <td>4096.92</td>\n",
       "      <td>4630.26</td>\n",
       "      <td>4207.69</td>\n",
       "      <td>4222.05</td>\n",
       "      <td>4206.67</td>\n",
       "      <td>4282.05</td>\n",
       "      <td>4628.72</td>\n",
       "      <td>4389.23</td>\n",
       "      <td>b'0'</td>\n",
       "    </tr>\n",
       "    <tr>\n",
       "      <th>3</th>\n",
       "      <td>4328.72</td>\n",
       "      <td>4011.79</td>\n",
       "      <td>4296.41</td>\n",
       "      <td>4155.90</td>\n",
       "      <td>4343.59</td>\n",
       "      <td>4582.56</td>\n",
       "      <td>4097.44</td>\n",
       "      <td>4630.77</td>\n",
       "      <td>4217.44</td>\n",
       "      <td>4235.38</td>\n",
       "      <td>4210.77</td>\n",
       "      <td>4287.69</td>\n",
       "      <td>4632.31</td>\n",
       "      <td>4396.41</td>\n",
       "      <td>b'0'</td>\n",
       "    </tr>\n",
       "    <tr>\n",
       "      <th>4</th>\n",
       "      <td>4326.15</td>\n",
       "      <td>4011.79</td>\n",
       "      <td>4292.31</td>\n",
       "      <td>4151.28</td>\n",
       "      <td>4347.69</td>\n",
       "      <td>4586.67</td>\n",
       "      <td>4095.90</td>\n",
       "      <td>4627.69</td>\n",
       "      <td>4210.77</td>\n",
       "      <td>4244.10</td>\n",
       "      <td>4212.82</td>\n",
       "      <td>4288.21</td>\n",
       "      <td>4632.82</td>\n",
       "      <td>4398.46</td>\n",
       "      <td>b'0'</td>\n",
       "    </tr>\n",
       "  </tbody>\n",
       "</table>\n",
       "</div>"
      ],
      "text/plain": [
       "       AF3       F7       F3      FC5       T7       P7       O1       O2  \\\n",
       "0  4329.23  4009.23  4289.23  4148.21  4350.26  4586.15  4096.92  4641.03   \n",
       "1  4324.62  4004.62  4293.85  4148.72  4342.05  4586.67  4097.44  4638.97   \n",
       "2  4327.69  4006.67  4295.38  4156.41  4336.92  4583.59  4096.92  4630.26   \n",
       "3  4328.72  4011.79  4296.41  4155.90  4343.59  4582.56  4097.44  4630.77   \n",
       "4  4326.15  4011.79  4292.31  4151.28  4347.69  4586.67  4095.90  4627.69   \n",
       "\n",
       "        P8       T8      FC6       F4       F8      AF4 eyeDetection  \n",
       "0  4222.05  4238.46  4211.28  4280.51  4635.90  4393.85         b'0'  \n",
       "1  4210.77  4226.67  4207.69  4279.49  4632.82  4384.10         b'0'  \n",
       "2  4207.69  4222.05  4206.67  4282.05  4628.72  4389.23         b'0'  \n",
       "3  4217.44  4235.38  4210.77  4287.69  4632.31  4396.41         b'0'  \n",
       "4  4210.77  4244.10  4212.82  4288.21  4632.82  4398.46         b'0'  "
      ]
     },
     "execution_count": 19,
     "metadata": {},
     "output_type": "execute_result"
    }
   ],
   "source": [
    "data = arff.loadarff('EEG Eye State.arff')\n",
    "df = pd.DataFrame(data[0])\n",
    "\n",
    "df.head()"
   ]
  },
  {
   "cell_type": "code",
   "execution_count": 69,
   "metadata": {},
   "outputs": [
    {
     "data": {
      "text/plain": [
       "0        b'0'\n",
       "1        b'0'\n",
       "2        b'0'\n",
       "3        b'0'\n",
       "4        b'0'\n",
       "5        b'0'\n",
       "6        b'0'\n",
       "7        b'0'\n",
       "8        b'0'\n",
       "9        b'0'\n",
       "10       b'0'\n",
       "11       b'0'\n",
       "12       b'0'\n",
       "13       b'0'\n",
       "14       b'0'\n",
       "15       b'0'\n",
       "16       b'0'\n",
       "17       b'0'\n",
       "18       b'0'\n",
       "19       b'0'\n",
       "20       b'0'\n",
       "21       b'0'\n",
       "22       b'0'\n",
       "23       b'0'\n",
       "24       b'0'\n",
       "25       b'0'\n",
       "26       b'0'\n",
       "27       b'0'\n",
       "28       b'0'\n",
       "29       b'0'\n",
       "         ... \n",
       "14950    b'0'\n",
       "14951    b'0'\n",
       "14952    b'0'\n",
       "14953    b'0'\n",
       "14954    b'0'\n",
       "14955    b'0'\n",
       "14956    b'0'\n",
       "14957    b'0'\n",
       "14958    b'0'\n",
       "14959    b'1'\n",
       "14960    b'1'\n",
       "14961    b'1'\n",
       "14962    b'1'\n",
       "14963    b'1'\n",
       "14964    b'1'\n",
       "14965    b'1'\n",
       "14966    b'1'\n",
       "14967    b'1'\n",
       "14968    b'1'\n",
       "14969    b'1'\n",
       "14970    b'1'\n",
       "14971    b'1'\n",
       "14972    b'1'\n",
       "14973    b'1'\n",
       "14974    b'1'\n",
       "14975    b'1'\n",
       "14976    b'1'\n",
       "14977    b'1'\n",
       "14978    b'1'\n",
       "14979    b'1'\n",
       "Name: eyeDetection, Length: 14980, dtype: object"
      ]
     },
     "execution_count": 69,
     "metadata": {},
     "output_type": "execute_result"
    }
   ],
   "source": [
    "df['eyeDetection']"
   ]
  },
  {
   "cell_type": "code",
   "execution_count": null,
   "metadata": {},
   "outputs": [],
   "source": []
  },
  {
   "cell_type": "code",
   "execution_count": 70,
   "metadata": {
    "scrolled": true
   },
   "outputs": [
    {
     "data": {
      "text/plain": [
       "[<matplotlib.lines.Line2D at 0x7f9d9dbb6cc0>]"
      ]
     },
     "execution_count": 70,
     "metadata": {},
     "output_type": "execute_result"
    },
    {
     "data": {
      "image/png": "[encoded data removed]",
      "text/plain": [
       "<Figure size 432x288 with 1 Axes>"
      ]
     },
     "metadata": {
      "needs_background": "light"
     },
     "output_type": "display_data"
    }
   ],
   "source": [
    "plt.plot(df['F7'][1:1000])"
   ]
  },
  {
   "cell_type": "markdown",
   "metadata": {},
   "source": [
    "## Car sensor"
   ]
  },
  {
   "cell_type": "code",
   "execution_count": 35,
   "metadata": {},
   "outputs": [
    {
     "data": {
      "text/html": [
       "<div>\n",
       "<style scoped>\n",
       "    .dataframe tbody tr th:only-of-type {\n",
       "        vertical-align: middle;\n",
       "    }\n",
       "\n",
       "    .dataframe tbody tr th {\n",
       "        vertical-align: top;\n",
       "    }\n",
       "\n",
       "    .dataframe thead th {\n",
       "        text-align: right;\n",
       "    }\n",
       "</style>\n",
       "<table border=\"1\" class=\"dataframe\">\n",
       "  <thead>\n",
       "    <tr style=\"text-align: right;\">\n",
       "      <th></th>\n",
       "      <th>4</th>\n",
       "      <th>1.4260641</th>\n",
       "      <th>1.3833925</th>\n",
       "      <th>1.338319</th>\n",
       "      <th>1.3285069</th>\n",
       "      <th>1.3580695</th>\n",
       "      <th>1.3450543</th>\n",
       "      <th>1.3023133</th>\n",
       "      <th>1.2589981</th>\n",
       "      <th>1.2476423</th>\n",
       "      <th>...</th>\n",
       "      <th>1.3539033</th>\n",
       "      <th>1.3568707</th>\n",
       "      <th>1.3517237</th>\n",
       "      <th>1.3470059</th>\n",
       "      <th>1.3200568</th>\n",
       "      <th>1.2924769</th>\n",
       "      <th>1.304151</th>\n",
       "      <th>1.3453263</th>\n",
       "      <th>1.3905243</th>\n",
       "      <th>1.3905243.1</th>\n",
       "    </tr>\n",
       "  </thead>\n",
       "  <tbody>\n",
       "    <tr>\n",
       "      <th>0</th>\n",
       "      <td>3</td>\n",
       "      <td>1.627373</td>\n",
       "      <td>1.590235</td>\n",
       "      <td>1.553101</td>\n",
       "      <td>1.515983</td>\n",
       "      <td>1.475730</td>\n",
       "      <td>1.431632</td>\n",
       "      <td>1.392192</td>\n",
       "      <td>1.355006</td>\n",
       "      <td>1.317838</td>\n",
       "      <td>...</td>\n",
       "      <td>1.431967</td>\n",
       "      <td>1.468652</td>\n",
       "      <td>1.505367</td>\n",
       "      <td>1.541229</td>\n",
       "      <td>1.569503</td>\n",
       "      <td>1.600594</td>\n",
       "      <td>1.637504</td>\n",
       "      <td>1.629394</td>\n",
       "      <td>1.584566</td>\n",
       "      <td>1.584566</td>\n",
       "    </tr>\n",
       "    <tr>\n",
       "      <th>1</th>\n",
       "      <td>2</td>\n",
       "      <td>1.651212</td>\n",
       "      <td>1.611446</td>\n",
       "      <td>1.572121</td>\n",
       "      <td>1.532942</td>\n",
       "      <td>1.493927</td>\n",
       "      <td>1.454606</td>\n",
       "      <td>1.414984</td>\n",
       "      <td>1.428797</td>\n",
       "      <td>1.407167</td>\n",
       "      <td>...</td>\n",
       "      <td>1.627291</td>\n",
       "      <td>1.623406</td>\n",
       "      <td>1.583851</td>\n",
       "      <td>1.550975</td>\n",
       "      <td>1.548918</td>\n",
       "      <td>1.547226</td>\n",
       "      <td>1.525657</td>\n",
       "      <td>1.533493</td>\n",
       "      <td>1.572569</td>\n",
       "      <td>1.611891</td>\n",
       "    </tr>\n",
       "    <tr>\n",
       "      <th>2</th>\n",
       "      <td>3</td>\n",
       "      <td>2.027566</td>\n",
       "      <td>1.990906</td>\n",
       "      <td>1.944900</td>\n",
       "      <td>1.929431</td>\n",
       "      <td>1.914625</td>\n",
       "      <td>1.874753</td>\n",
       "      <td>1.834887</td>\n",
       "      <td>1.795030</td>\n",
       "      <td>1.755179</td>\n",
       "      <td>...</td>\n",
       "      <td>1.764289</td>\n",
       "      <td>1.803875</td>\n",
       "      <td>1.841988</td>\n",
       "      <td>1.877844</td>\n",
       "      <td>1.917510</td>\n",
       "      <td>1.963942</td>\n",
       "      <td>2.003889</td>\n",
       "      <td>2.046784</td>\n",
       "      <td>2.040575</td>\n",
       "      <td>2.033914</td>\n",
       "    </tr>\n",
       "    <tr>\n",
       "      <th>3</th>\n",
       "      <td>4</td>\n",
       "      <td>1.724875</td>\n",
       "      <td>1.680044</td>\n",
       "      <td>1.633172</td>\n",
       "      <td>1.669576</td>\n",
       "      <td>1.633641</td>\n",
       "      <td>1.587976</td>\n",
       "      <td>1.543541</td>\n",
       "      <td>1.498258</td>\n",
       "      <td>1.486019</td>\n",
       "      <td>...</td>\n",
       "      <td>1.526239</td>\n",
       "      <td>1.535510</td>\n",
       "      <td>1.574697</td>\n",
       "      <td>1.602634</td>\n",
       "      <td>1.608364</td>\n",
       "      <td>1.649816</td>\n",
       "      <td>1.694550</td>\n",
       "      <td>1.728753</td>\n",
       "      <td>1.683934</td>\n",
       "      <td>1.683934</td>\n",
       "    </tr>\n",
       "    <tr>\n",
       "      <th>4</th>\n",
       "      <td>3</td>\n",
       "      <td>1.642850</td>\n",
       "      <td>1.647981</td>\n",
       "      <td>1.616345</td>\n",
       "      <td>1.578606</td>\n",
       "      <td>1.540155</td>\n",
       "      <td>1.495776</td>\n",
       "      <td>1.451633</td>\n",
       "      <td>1.408836</td>\n",
       "      <td>1.370976</td>\n",
       "      <td>...</td>\n",
       "      <td>1.719056</td>\n",
       "      <td>1.709985</td>\n",
       "      <td>1.701230</td>\n",
       "      <td>1.692796</td>\n",
       "      <td>1.684683</td>\n",
       "      <td>1.676893</td>\n",
       "      <td>1.669428</td>\n",
       "      <td>1.662289</td>\n",
       "      <td>1.655479</td>\n",
       "      <td>1.648999</td>\n",
       "    </tr>\n",
       "  </tbody>\n",
       "</table>\n",
       "<p>5 rows × 578 columns</p>\n",
       "</div>"
      ],
      "text/plain": [
       "   4  1.4260641  1.3833925  1.338319  1.3285069  1.3580695  1.3450543  \\\n",
       "0  3   1.627373   1.590235  1.553101   1.515983   1.475730   1.431632   \n",
       "1  2   1.651212   1.611446  1.572121   1.532942   1.493927   1.454606   \n",
       "2  3   2.027566   1.990906  1.944900   1.929431   1.914625   1.874753   \n",
       "3  4   1.724875   1.680044  1.633172   1.669576   1.633641   1.587976   \n",
       "4  3   1.642850   1.647981  1.616345   1.578606   1.540155   1.495776   \n",
       "\n",
       "   1.3023133  1.2589981  1.2476423     ...       1.3539033  1.3568707  \\\n",
       "0   1.392192   1.355006   1.317838     ...        1.431967   1.468652   \n",
       "1   1.414984   1.428797   1.407167     ...        1.627291   1.623406   \n",
       "2   1.834887   1.795030   1.755179     ...        1.764289   1.803875   \n",
       "3   1.543541   1.498258   1.486019     ...        1.526239   1.535510   \n",
       "4   1.451633   1.408836   1.370976     ...        1.719056   1.709985   \n",
       "\n",
       "   1.3517237  1.3470059  1.3200568  1.2924769  1.304151  1.3453263  1.3905243  \\\n",
       "0   1.505367   1.541229   1.569503   1.600594  1.637504   1.629394   1.584566   \n",
       "1   1.583851   1.550975   1.548918   1.547226  1.525657   1.533493   1.572569   \n",
       "2   1.841988   1.877844   1.917510   1.963942  2.003889   2.046784   2.040575   \n",
       "3   1.574697   1.602634   1.608364   1.649816  1.694550   1.728753   1.683934   \n",
       "4   1.701230   1.692796   1.684683   1.676893  1.669428   1.662289   1.655479   \n",
       "\n",
       "   1.3905243.1  \n",
       "0     1.584566  \n",
       "1     1.611891  \n",
       "2     2.033914  \n",
       "3     1.683934  \n",
       "4     1.648999  \n",
       "\n",
       "[5 rows x 578 columns]"
      ]
     },
     "execution_count": 35,
     "metadata": {},
     "output_type": "execute_result"
    }
   ],
   "source": [
    "df = pd.read_csv(\"Car_TEST.tsv\",sep='\\t')\n",
    "df.head()"
   ]
  },
  {
   "cell_type": "code",
   "execution_count": null,
   "metadata": {},
   "outputs": [],
   "source": []
  },
  {
   "cell_type": "code",
   "execution_count": 52,
   "metadata": {},
   "outputs": [
    {
     "data": {
      "text/plain": [
       "[<matplotlib.lines.Line2D at 0x7f9d9f5b9d68>]"
      ]
     },
     "execution_count": 52,
     "metadata": {},
     "output_type": "execute_result"
    },
    {
     "data": {
      "image/png": "[encoded data removed]",
      "text/plain": [
       "<Figure size 432x288 with 1 Axes>"
      ]
     },
     "metadata": {
      "needs_background": "light"
     },
     "output_type": "display_data"
    }
   ],
   "source": [
    "plt.plot(np.append(np.array(df.iloc[0][1:]), np.array(df.iloc[4][1:])))"
   ]
  },
  {
   "cell_type": "code",
   "execution_count": 43,
   "metadata": {},
   "outputs": [
    {
     "data": {
      "text/plain": [
       "[<matplotlib.lines.Line2D at 0x7f9d9f02cdd8>]"
      ]
     },
     "execution_count": 43,
     "metadata": {},
     "output_type": "execute_result"
    },
    {
     "data": {
      "image/png": "[encoded data removed]",
      "text/plain": [
       "<Figure size 432x288 with 1 Axes>"
      ]
     },
     "metadata": {
      "needs_background": "light"
     },
     "output_type": "display_data"
    }
   ],
   "source": [
    "plt.plot(np.array(df.iloc[2][1:]))"
   ]
  },
  {
   "cell_type": "code",
   "execution_count": 32,
   "metadata": {},
   "outputs": [
    {
     "data": {
      "text/plain": [
       "'/Users/arwaalanqary/Dropbox (MIT)/MIT/Anomaly/Experiments'"
      ]
     },
     "execution_count": 32,
     "metadata": {},
     "output_type": "execute_result"
    }
   ],
   "source": [
    "os.getcwd()"
   ]
  },
  {
   "cell_type": "code",
   "execution_count": 46,
   "metadata": {},
   "outputs": [
    {
     "data": {
      "text/plain": [
       "array([1, 2, 3, 1, 2, 3])"
      ]
     },
     "execution_count": 46,
     "metadata": {},
     "output_type": "execute_result"
    }
   ],
   "source": [
    "np.append(np.array([1,2,3]), np.array([1,2,3]))"
   ]
  },
  {
   "cell_type": "markdown",
   "metadata": {},
   "source": [
    "## ECG Heart Rate\n",
    "\n",
    "https://www.physionet.org/challenge/2013/"
   ]
  },
  {
   "cell_type": "code",
   "execution_count": 54,
   "metadata": {},
   "outputs": [
    {
     "data": {
      "text/html": [
       "<div>\n",
       "<style scoped>\n",
       "    .dataframe tbody tr th:only-of-type {\n",
       "        vertical-align: middle;\n",
       "    }\n",
       "\n",
       "    .dataframe tbody tr th {\n",
       "        vertical-align: top;\n",
       "    }\n",
       "\n",
       "    .dataframe thead th {\n",
       "        text-align: right;\n",
       "    }\n",
       "</style>\n",
       "<table border=\"1\" class=\"dataframe\">\n",
       "  <thead>\n",
       "    <tr style=\"text-align: right;\">\n",
       "      <th></th>\n",
       "      <th>33</th>\n",
       "      <th>3.0577079</th>\n",
       "      <th>2.9885631</th>\n",
       "      <th>2.821472</th>\n",
       "      <th>2.6392369</th>\n",
       "      <th>2.4456015</th>\n",
       "      <th>2.1598024</th>\n",
       "      <th>1.7604417</th>\n",
       "      <th>1.2885524</th>\n",
       "      <th>0.77969192</th>\n",
       "      <th>...</th>\n",
       "      <th>0.95861238</th>\n",
       "      <th>1.1266078</th>\n",
       "      <th>1.3201244</th>\n",
       "      <th>1.5226308</th>\n",
       "      <th>1.7262525</th>\n",
       "      <th>1.9814184</th>\n",
       "      <th>2.3291505</th>\n",
       "      <th>2.6963492</th>\n",
       "      <th>2.9390075</th>\n",
       "      <th>3.0347465</th>\n",
       "    </tr>\n",
       "  </thead>\n",
       "  <tbody>\n",
       "    <tr>\n",
       "      <th>0</th>\n",
       "      <td>9</td>\n",
       "      <td>3.551183</td>\n",
       "      <td>3.538439</td>\n",
       "      <td>3.496559</td>\n",
       "      <td>3.467801</td>\n",
       "      <td>3.425732</td>\n",
       "      <td>3.294089</td>\n",
       "      <td>3.069612</td>\n",
       "      <td>2.768019</td>\n",
       "      <td>2.384278</td>\n",
       "      <td>...</td>\n",
       "      <td>1.048056</td>\n",
       "      <td>1.165939</td>\n",
       "      <td>1.321963</td>\n",
       "      <td>1.557507</td>\n",
       "      <td>1.857872</td>\n",
       "      <td>2.181923</td>\n",
       "      <td>2.531168</td>\n",
       "      <td>2.914332</td>\n",
       "      <td>3.243796</td>\n",
       "      <td>3.450888</td>\n",
       "    </tr>\n",
       "    <tr>\n",
       "      <th>1</th>\n",
       "      <td>10</td>\n",
       "      <td>3.543798</td>\n",
       "      <td>3.492157</td>\n",
       "      <td>3.372021</td>\n",
       "      <td>3.203759</td>\n",
       "      <td>2.987730</td>\n",
       "      <td>2.720849</td>\n",
       "      <td>2.415307</td>\n",
       "      <td>2.095017</td>\n",
       "      <td>1.819433</td>\n",
       "      <td>...</td>\n",
       "      <td>2.197438</td>\n",
       "      <td>2.506959</td>\n",
       "      <td>2.789635</td>\n",
       "      <td>3.028782</td>\n",
       "      <td>3.181554</td>\n",
       "      <td>3.302693</td>\n",
       "      <td>3.420687</td>\n",
       "      <td>3.549091</td>\n",
       "      <td>3.680165</td>\n",
       "      <td>3.776992</td>\n",
       "    </tr>\n",
       "    <tr>\n",
       "      <th>2</th>\n",
       "      <td>21</td>\n",
       "      <td>3.395535</td>\n",
       "      <td>3.360977</td>\n",
       "      <td>3.277669</td>\n",
       "      <td>3.144162</td>\n",
       "      <td>2.939326</td>\n",
       "      <td>2.656123</td>\n",
       "      <td>2.305517</td>\n",
       "      <td>1.910022</td>\n",
       "      <td>1.507525</td>\n",
       "      <td>...</td>\n",
       "      <td>1.207758</td>\n",
       "      <td>1.472210</td>\n",
       "      <td>1.777132</td>\n",
       "      <td>2.096057</td>\n",
       "      <td>2.389526</td>\n",
       "      <td>2.658084</td>\n",
       "      <td>2.893496</td>\n",
       "      <td>3.081306</td>\n",
       "      <td>3.221843</td>\n",
       "      <td>3.339746</td>\n",
       "    </tr>\n",
       "    <tr>\n",
       "      <th>3</th>\n",
       "      <td>3</td>\n",
       "      <td>3.241202</td>\n",
       "      <td>3.205867</td>\n",
       "      <td>3.154977</td>\n",
       "      <td>3.128858</td>\n",
       "      <td>3.082867</td>\n",
       "      <td>2.970339</td>\n",
       "      <td>2.765154</td>\n",
       "      <td>2.461359</td>\n",
       "      <td>2.069992</td>\n",
       "      <td>...</td>\n",
       "      <td>0.980121</td>\n",
       "      <td>1.155265</td>\n",
       "      <td>1.361519</td>\n",
       "      <td>1.605221</td>\n",
       "      <td>1.887810</td>\n",
       "      <td>2.209286</td>\n",
       "      <td>2.556973</td>\n",
       "      <td>2.891310</td>\n",
       "      <td>3.149312</td>\n",
       "      <td>3.290653</td>\n",
       "    </tr>\n",
       "    <tr>\n",
       "      <th>4</th>\n",
       "      <td>1</td>\n",
       "      <td>3.173411</td>\n",
       "      <td>3.163903</td>\n",
       "      <td>3.145480</td>\n",
       "      <td>3.076536</td>\n",
       "      <td>2.938647</td>\n",
       "      <td>2.679500</td>\n",
       "      <td>2.306256</td>\n",
       "      <td>1.849825</td>\n",
       "      <td>1.327430</td>\n",
       "      <td>...</td>\n",
       "      <td>0.955710</td>\n",
       "      <td>1.117334</td>\n",
       "      <td>1.305097</td>\n",
       "      <td>1.535638</td>\n",
       "      <td>1.813734</td>\n",
       "      <td>2.125116</td>\n",
       "      <td>2.457900</td>\n",
       "      <td>2.778817</td>\n",
       "      <td>3.006432</td>\n",
       "      <td>3.082497</td>\n",
       "    </tr>\n",
       "  </tbody>\n",
       "</table>\n",
       "<p>5 rows × 751 columns</p>\n",
       "</div>"
      ],
      "text/plain": [
       "   33  3.0577079  2.9885631  2.821472  2.6392369  2.4456015  2.1598024  \\\n",
       "0   9   3.551183   3.538439  3.496559   3.467801   3.425732   3.294089   \n",
       "1  10   3.543798   3.492157  3.372021   3.203759   2.987730   2.720849   \n",
       "2  21   3.395535   3.360977  3.277669   3.144162   2.939326   2.656123   \n",
       "3   3   3.241202   3.205867  3.154977   3.128858   3.082867   2.970339   \n",
       "4   1   3.173411   3.163903  3.145480   3.076536   2.938647   2.679500   \n",
       "\n",
       "   1.7604417  1.2885524  0.77969192    ...      0.95861238  1.1266078  \\\n",
       "0   3.069612   2.768019    2.384278    ...        1.048056   1.165939   \n",
       "1   2.415307   2.095017    1.819433    ...        2.197438   2.506959   \n",
       "2   2.305517   1.910022    1.507525    ...        1.207758   1.472210   \n",
       "3   2.765154   2.461359    2.069992    ...        0.980121   1.155265   \n",
       "4   2.306256   1.849825    1.327430    ...        0.955710   1.117334   \n",
       "\n",
       "   1.3201244  1.5226308  1.7262525  1.9814184  2.3291505  2.6963492  \\\n",
       "0   1.321963   1.557507   1.857872   2.181923   2.531168   2.914332   \n",
       "1   2.789635   3.028782   3.181554   3.302693   3.420687   3.549091   \n",
       "2   1.777132   2.096057   2.389526   2.658084   2.893496   3.081306   \n",
       "3   1.361519   1.605221   1.887810   2.209286   2.556973   2.891310   \n",
       "4   1.305097   1.535638   1.813734   2.125116   2.457900   2.778817   \n",
       "\n",
       "   2.9390075  3.0347465  \n",
       "0   3.243796   3.450888  \n",
       "1   3.680165   3.776992  \n",
       "2   3.221843   3.339746  \n",
       "3   3.149312   3.290653  \n",
       "4   3.006432   3.082497  \n",
       "\n",
       "[5 rows x 751 columns]"
      ]
     },
     "execution_count": 54,
     "metadata": {},
     "output_type": "execute_result"
    }
   ],
   "source": [
    "df = pd.read_csv(\"NonInvasiveFetalECGThorax1_TRAIN.tsv\",sep='\\t')\n",
    "df.head()"
   ]
  },
  {
   "cell_type": "code",
   "execution_count": 62,
   "metadata": {},
   "outputs": [
    {
     "data": {
      "text/plain": [
       "[<matplotlib.lines.Line2D at 0x7f9d9ff60cf8>]"
      ]
     },
     "execution_count": 62,
     "metadata": {},
     "output_type": "execute_result"
    },
    {
     "data": {
      "image/png": "[encoded data removed]",
      "text/plain": [
       "<Figure size 432x288 with 1 Axes>"
      ]
     },
     "metadata": {
      "needs_background": "light"
     },
     "output_type": "display_data"
    }
   ],
   "source": [
    "plt.plot(np.array(df.iloc[2][1:]))"
   ]
  },
  {
   "cell_type": "code",
   "execution_count": 61,
   "metadata": {},
   "outputs": [
    {
     "data": {
      "text/plain": [
       "[<matplotlib.lines.Line2D at 0x7f9d9ff00940>]"
      ]
     },
     "execution_count": 61,
     "metadata": {},
     "output_type": "execute_result"
    },
    {
     "data": {
      "image/png": "[encoded data removed]",
      "text/plain": [
       "<Figure size 432x288 with 1 Axes>"
      ]
     },
     "metadata": {
      "needs_background": "light"
     },
     "output_type": "display_data"
    }
   ],
   "source": [
    "plt.plot(np.array(df.iloc[0][1:]))"
   ]
  },
  {
   "cell_type": "markdown",
   "metadata": {},
   "source": [
    "## Human activity "
   ]
  },
  {
   "cell_type": "code",
   "execution_count": null,
   "metadata": {},
   "outputs": [],
   "source": []
  }
 ],
 "metadata": {
  "kernelspec": {
   "display_name": "Python 3",
   "language": "python",
   "name": "python3"
  },
  "language_info": {
   "codemirror_mode": {
    "name": "ipython",
    "version": 3
   },
   "file_extension": ".py",
   "mimetype": "text/x-python",
   "name": "python",
   "nbconvert_exporter": "python",
   "pygments_lexer": "ipython3",
   "version": "3.7.6"
  }
 },
 "nbformat": 4,
 "nbformat_minor": 2
}

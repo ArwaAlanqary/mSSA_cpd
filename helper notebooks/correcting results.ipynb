{
 "cells": [
  {
   "cell_type": "code",
   "execution_count": 2,
   "metadata": {},
   "outputs": [],
   "source": [
    "import os\n",
    "import sys\n",
    "sys.path.append(os.path.join(os.path.dirname(os.getcwd()), 'evaluation'))"
   ]
  },
  {
   "cell_type": "code",
   "execution_count": 3,
   "metadata": {},
   "outputs": [],
   "source": [
    "from scipy.io import arff\n",
    "import pandas as pd\n",
    "import matplotlib.pyplot as plt\n",
    "import numpy as np\n",
    "import json\n",
    "import glob\n",
    "from classification import compute_f1_score"
   ]
  },
  {
   "cell_type": "code",
   "execution_count": 4,
   "metadata": {},
   "outputs": [],
   "source": [
    "def json_converter(obj):\n",
    "        if isinstance(obj, np.integer):\n",
    "            return int(obj)\n",
    "        elif isinstance(obj, np.floating):\n",
    "            return float(obj)\n",
    "        elif isinstance(obj, np.ndarray):\n",
    "            return obj.tolist()\n",
    "        elif isinstance(obj, datetime.datetime):\n",
    "            return obj.__str__()"
   ]
  },
  {
   "cell_type": "markdown",
   "metadata": {},
   "source": [
    "# Correct F1 score in Json For Synthetic Data"
   ]
  },
  {
   "cell_type": "code",
   "execution_count": 7,
   "metadata": {},
   "outputs": [
    {
     "name": "stdout",
     "output_type": "stream",
     "text": [
      "mean10 old: 0.2857142857142857  new: 0.33333333333333337\n",
      "mean4 old: 0.2857142857142857  new: 0.33333333333333337\n",
      "mean11 old: 0.2857142857142857  new: 0.33333333333333337\n",
      "mean5 old: 0.2857142857142857  new: 0.33333333333333337\n",
      "mean3 old: 0.2857142857142857  new: 0.33333333333333337\n",
      "mean17 old: 0.2857142857142857  new: 0.33333333333333337\n",
      "mean2 old: 0.2857142857142857  new: 0.33333333333333337\n",
      "mean16 old: 0.2857142857142857  new: 0.33333333333333337\n",
      "mean18 old: 0.2857142857142857  new: 0.33333333333333337\n",
      "mean19 old: 0.2857142857142857  new: 0.33333333333333337\n",
      "mean12 old: 0.2857142857142857  new: 0.33333333333333337\n",
      "mean6 old: 0.2857142857142857  new: 0.33333333333333337\n",
      "mean13 old: 0.2857142857142857  new: 0.33333333333333337\n",
      "mean7 old: 0.2857142857142857  new: 0.33333333333333337\n",
      "mean1 old: 0.2857142857142857  new: 0.33333333333333337\n",
      "mean15 old: 0.2857142857142857  new: 0.33333333333333337\n",
      "mean0 old: 0.2857142857142857  new: 0.33333333333333337\n",
      "mean14 old: 0.2857142857142857  new: 0.33333333333333337\n",
      "mean9 old: 0.2857142857142857  new: 0.33333333333333337\n",
      "mean8 old: 0.2857142857142857  new: 0.33333333333333337\n"
     ]
    }
   ],
   "source": [
    "data_set = 'mean'\n",
    "algorithm = 'no_change'\n",
    "results_path = os.path.join(os.path.dirname(os.getcwd()), 'results', 'test', algorithm, data_set)\n",
    "data_path = os.path.join(os.path.dirname(os.getcwd()), 'data', data_set)\n",
    "list_of_results = glob.glob(os.path.join(results_path, \"*.json\"))\n",
    "for result in list_of_results:\n",
    "    with open(result) as file:\n",
    "        results_dict = json.load(file)\n",
    "    ts_name = results_dict['data_name']\n",
    "    detected = np.array(results_dict['cp'])\n",
    "    labels = pd.read_csv(os.path.join(data_path, \"{}_labels.csv\".format(ts_name)), header=None)\n",
    "    corrected_f1 = compute_f1_score(labels.values[:-1, :], detected, 10)\n",
    "    print(ts_name + \" old: \" + str(results_dict['score']['value']), \" new: \" + str(corrected_f1))\n",
    "    results_dict['score']['value'] = corrected_f1\n",
    "    with open(result, 'w') as file:\n",
    "        json.dump(results_dict, file)"
   ]
  },
  {
   "cell_type": "markdown",
   "metadata": {},
   "source": [
    "# Write table from jsons (REWRITES THE TABLE)"
   ]
  },
  {
   "cell_type": "code",
   "execution_count": 14,
   "metadata": {},
   "outputs": [],
   "source": [
    "#Write results for sc\n",
    "data_set = 'hasc'\n",
    "algorithm = 'mssa'\n",
    "results_path = os.path.join(os.path.dirname(os.getcwd()), 'results', 'test', algorithm, data_set)\n",
    "list_of_results = glob.glob(os.path.join(results_path, \"*.json\"))\n",
    "table = []\n",
    "for result in list_of_results:\n",
    "    with open(result, 'r') as file:\n",
    "        results_dict = json.load(file)\n",
    "    ts_name = results_dict['data_name']\n",
    "    status = results_dict['status']\n",
    "    score = results_dict['score']\n",
    "    if score: \n",
    "        score = score['value']\n",
    "    else: \n",
    "        continue \n",
    "    row = [algorithm, data_set, ts_name, status, score]\n",
    "    table.append(row)\n",
    "table = pd.DataFrame(table)\n",
    "table.to_csv('{}/results_table.csv'.format(results_path), index=False, header=False)\n"
   ]
  },
  {
   "cell_type": "raw",
   "metadata": {},
   "source": []
  }
 ],
 "metadata": {
  "kernelspec": {
   "display_name": "Python 3",
   "language": "python",
   "name": "python3"
  },
  "language_info": {
   "codemirror_mode": {
    "name": "ipython",
    "version": 3
   },
   "file_extension": ".py",
   "mimetype": "text/x-python",
   "name": "python",
   "nbconvert_exporter": "python",
   "pygments_lexer": "ipython3",
   "version": "3.7.6"
  }
 },
 "nbformat": 4,
 "nbformat_minor": 4
}

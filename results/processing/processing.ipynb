{
 "cells": [
  {
   "cell_type": "code",
   "execution_count": 9,
   "metadata": {},
   "outputs": [],
   "source": [
    "import pandas as pd\n",
    "import os\n",
    "import numpy   as np\n",
    "import matplotlib.pyplot as plt\n",
    "import glob\n",
    "import json"
   ]
  },
  {
   "cell_type": "code",
   "execution_count": 10,
   "metadata": {},
   "outputs": [],
   "source": [
    "def generate_average_df(algorithms, data_sets, results_path, output_path): \n",
    "    output = {}\n",
    "    for algorithm in algorithms: \n",
    "        output[algorithm] = {}\n",
    "        for data_set in data_sets: \n",
    "            print(algorithm, data_set)\n",
    "            try:\n",
    "                results = pd.read_csv(os.path.join(results_path, algorithm, data_set,'results_table.csv'), header=None)\n",
    "                results = results[4].values\n",
    "                output[algorithm][data_set] = str(round(np.mean(results), 3)) + \" (\" + str(round(np.std(results),3)) +\")\" \n",
    "            except: \n",
    "                output[algorithm][data_set] = \"NA\"\n",
    "    output_df = pd.DataFrame.from_dict(output, orient=\"index\")\n",
    "    output_df.to_latex(os.path.join(output_path, 'average_f1_table.txt'))"
   ]
  },
  {
   "cell_type": "code",
   "execution_count": 3,
   "metadata": {},
   "outputs": [],
   "source": [
    "def generate_histograms(algorithms, data_sets, results_path, output_path, data_path):\n",
    "    output = {}\n",
    "    for algorithm in algorithms: \n",
    "        output[algorithm] = {}\n",
    "        for data_set in data_sets: \n",
    "            files = glob.glob(os.path.join(results_path, algorithm, data_set, '*.json'))\n",
    "            if not files:\n",
    "                output[algorithm][data_set] = \"N/A\"\n",
    "                continue\n",
    "            try:\n",
    "                ARL = []\n",
    "                for file in files: \n",
    "                    with open(file) as f:\n",
    "                        result = json.load(f)\n",
    "                    ts_name = result['data_name']\n",
    "                    if result['score'] is None: continue\n",
    "                    detected = np.array(result['cp'])[:, 0]\n",
    "                    labels = pd.read_csv(os.path.join(data_path, data_set,\"{}_labels.csv\".format(ts_name)), header=None)\n",
    "                    labels = labels.values[:,0]\n",
    "                    selected = np.zeros(len(detected))\n",
    "                    print(len(detected), len(selected))\n",
    "                    for cp in labels:\n",
    "                        dist = (detected-cp).astype(float)\n",
    "                        dist[dist < 0] = np.inf\n",
    "                        min_ = np.min(np.abs(dist) + selected *10000)\n",
    "                        index = np.argmin(np.abs(dist) + selected *10000)\n",
    "                        if min_ < 200:\n",
    "                            ARL.append(dist[index])\n",
    "                            selected[index] = 1\n",
    "                print(algorithm, data_set, len(ARL))\n",
    "#                 output[algorithm][data_set] = str(round(np.mean(np.abs(ARL)), 3)) + \" (\" + str(round(np.std(np.abs(ARL)), 3)) +\"), \" + str(round(np.median(np.abs(ARL)), 3)) \n",
    "                output[algorithm][data_set] =  str(round(np.median(np.abs(ARL)), 3))+ f'({str(len(ARL))})' \n",
    "#                 \n",
    "#                 fig = plt.figure(figsize=(6,4))\n",
    "#                 plt.hist(ARL, bins = 20, color = 'g', alpha=0.7)\n",
    "#                 plt.title('{} ({})'.format(data_set, algorithm))\n",
    "#                 fig.savefig('{}/{}_{}'.format(output_path, data_set, algorithm), dpi = 400)\n",
    "            except: \n",
    "                output[algorithm][data_set] = \"N/A\"\n",
    "    output_df = pd.DataFrame.from_dict(output)\n",
    "    output_df.to_latex(os.path.join(output_path, 'arl_table.txt'))\n",
    "    \n",
    " "
   ]
  },
  {
   "cell_type": "code",
   "execution_count": 164,
   "metadata": {},
   "outputs": [],
   "source": [
    "def generate_arl_plots(algorithms, data_set, results_path, output_path, data_path):\n",
    "    fig = plt.figure(figsize=(7,5))\n",
    "    for algorithm in algorithms:         \n",
    "        print(algorithm)\n",
    "        files = glob.glob(os.path.join(results_path, algorithm, data_set, '*.json'))\n",
    "        if not files:\n",
    "            continue\n",
    "        ARL = []\n",
    "        for file in files: \n",
    "            with open(file) as f:\n",
    "                result = json.load(f)\n",
    "            ts_name = result['data_name']\n",
    "            if result['score'] is None: \n",
    "                continue\n",
    "            detected = np.array(result['cp'])[1:, 0]\n",
    "            labels = pd.read_csv(os.path.join(data_path, data_set,\"{}_labels.csv\".format(ts_name)), header=None)\n",
    "            labels = labels.values#[:-1, :]\n",
    "            len_ts = labels[-1,-1] \n",
    "            labels = labels[1:,0]\n",
    "            labels = labels[::-1]\n",
    "            if not len(detected): \n",
    "                ARL = ARL + (np.ones(len(labels))*len_ts).tolist()\n",
    "                continue\n",
    "            for i, cp in enumerate(labels):\n",
    "                dist = (detected-cp).astype(float)\n",
    "                dist[dist < 0] = np.inf\n",
    "                min_ = np.min(dist)\n",
    "                if min_ == np.inf: \n",
    "                    ARL.append(len_ts)\n",
    "                    continue  \n",
    "                index = np.argmin(dist)\n",
    "                detected_cp = detected[index]\n",
    "                if i>0:\n",
    "                    if detected_cp >= labels[i-1]: \n",
    "                        ARL.append(len_ts)\n",
    "                        continue  \n",
    "                ARL.append(min_)                \n",
    "        plt.hist(ARL, bins = 5000, cumulative=True, label=algorithm, histtype='step', linewidth=1.5)\n",
    "    plt.xlim((0,100))\n",
    "    plt.title('Average Detection Delay ({} dataset)'.format(data_set))\n",
    "    plt.legend(loc='upper right')\n",
    "    fig.savefig('{}/{}_ARL_CDF.png'.format(output_path, data_set), dpi = 400)\n",
    "\n",
    "        \n",
    "    \n",
    " "
   ]
  },
  {
   "cell_type": "code",
   "execution_count": 165,
   "metadata": {},
   "outputs": [
    {
     "name": "stdout",
     "output_type": "stream",
     "text": [
      "mssa\n",
      "mssa_mw\n",
      "binseg\n",
      "microsoft_ssa\n",
      "bocpdms\n",
      "klcpd\n"
     ]
    },
    {
     "data": {
      "image/png": "[encoded data removed]",
      "text/plain": [
       "<Figure size 504x360 with 1 Axes>"
      ]
     },
     "metadata": {
      "needs_background": "light"
     },
     "output_type": "display_data"
    }
   ],
   "source": [
    "data_path = os.path.join(os.path.dirname(os.path.dirname(os.getcwd())), 'data')\n",
    "results_path = os.path.join(os.path.dirname(os.getcwd()), 'test')\n",
    "output_path = os.path.join(os.path.dirname(os.getcwd()), 'processing')\n",
    "algorithms = ['mssa','mssa_mw', 'binseg', 'microsoft_ssa', 'bocpdms', 'klcpd']\n",
    "data_set = \"yahoo\"\n",
    "generate_arl_plots(algorithms, data_set, results_path, output_path, data_path)"
   ]
  },
  {
   "cell_type": "code",
   "execution_count": 130,
   "metadata": {},
   "outputs": [
    {
     "data": {
      "text/plain": [
       "(array([10., 10., 10., 10., 10., 12., 12., 12., 12., 13.]),\n",
       " array([  0.,  20.,  40.,  60.,  80., 100., 120., 140., 160., 180., 200.]),\n",
       " [<matplotlib.patches.Polygon at 0x112157c50>])"
      ]
     },
     "execution_count": 130,
     "metadata": {},
     "output_type": "execute_result"
    },
    {
     "data": {
      "image/png": "[encoded data removed]",
      "text/plain": [
       "<Figure size 432x288 with 1 Axes>"
      ]
     },
     "metadata": {
      "needs_background": "light"
     },
     "output_type": "display_data"
    }
   ],
   "source": [
    "ARL = [1,1,1,0,0,0,0,0,0,0,100,100,200]\n",
    "plt.hist(ARL, cumulative=True, label='CDF',\n",
    "         histtype='step', alpha=0.8, color='k')"
   ]
  },
  {
   "cell_type": "code",
   "execution_count": 16,
   "metadata": {},
   "outputs": [
    {
     "data": {
      "text/plain": [
       "[<matplotlib.lines.Line2D at 0x1114c0310>]"
      ]
     },
     "execution_count": 16,
     "metadata": {},
     "output_type": "execute_result"
    },
    {
     "data": {
      "image/png": "[encoded data removed]",
      "text/plain": [
       "<Figure size 432x288 with 1 Axes>"
      ]
     },
     "metadata": {
      "needs_background": "light"
     },
     "output_type": "display_data"
    }
   ],
   "source": [
    "X=sorted(ARL)\n",
    "Y=[]\n",
    "l=len(X)\n",
    "Y.append(float(1)/l)\n",
    "for i in range(2,l+1):\n",
    "    Y.append(float(1)/l+Y[i-2])\n",
    "plt.plot(X,Y,label='xyz')"
   ]
  },
  {
   "cell_type": "code",
   "execution_count": 13,
   "metadata": {},
   "outputs": [
    {
     "data": {
      "text/plain": [
       "[<matplotlib.lines.Line2D at 0x1113c5710>]"
      ]
     },
     "execution_count": 13,
     "metadata": {},
     "output_type": "execute_result"
    },
    {
     "data": {
      "image/png": "[encoded data removed]",
      "text/plain": [
       "<Figure size 432x288 with 1 Axes>"
      ]
     },
     "metadata": {
      "needs_background": "light"
     },
     "output_type": "display_data"
    }
   ],
   "source": [
    "cdf(ARL)"
   ]
  },
  {
   "cell_type": "code",
   "execution_count": 11,
   "metadata": {},
   "outputs": [
    {
     "name": "stdout",
     "output_type": "stream",
     "text": [
      "mssa struct\n",
      "mssa mean\n",
      "mssa energy\n",
      "mssa yahoo\n",
      "mssa hasc\n",
      "mssa_dist struct\n",
      "mssa_dist mean\n",
      "mssa_dist energy\n",
      "mssa_dist yahoo\n",
      "mssa_dist hasc\n",
      "mssa_mw struct\n",
      "mssa_mw mean\n",
      "mssa_mw energy\n",
      "mssa_mw yahoo\n",
      "mssa_mw hasc\n",
      "mssa_mw_dist struct\n",
      "mssa_mw_dist mean\n",
      "mssa_mw_dist energy\n",
      "mssa_mw_dist yahoo\n",
      "mssa_mw_dist hasc\n",
      "binseg struct\n",
      "binseg mean\n",
      "binseg energy\n",
      "binseg yahoo\n",
      "binseg hasc\n",
      "microsoft_ssa struct\n",
      "microsoft_ssa mean\n",
      "microsoft_ssa energy\n",
      "microsoft_ssa yahoo\n",
      "microsoft_ssa hasc\n",
      "bocpdms struct\n",
      "bocpdms mean\n",
      "bocpdms energy\n",
      "bocpdms yahoo\n",
      "bocpdms hasc\n",
      "klcpd struct\n",
      "klcpd mean\n",
      "klcpd energy\n",
      "klcpd yahoo\n",
      "klcpd hasc\n",
      "no_change struct\n",
      "no_change mean\n",
      "no_change energy\n",
      "no_change yahoo\n",
      "no_change hasc\n"
     ]
    }
   ],
   "source": [
    "data_path = os.path.join(os.path.dirname(os.path.dirname(os.getcwd())), 'data')\n",
    "results_path = os.path.join(os.path.dirname(os.getcwd()), 'test')\n",
    "output_path = os.path.join(os.path.dirname(os.getcwd()), 'processing')\n",
    "algorithms = ['mssa', 'mssa_dist', 'mssa_mw', 'mssa_mw_dist',  'binseg', 'microsoft_ssa', 'bocpdms', 'klcpd', 'no_change']\n",
    "data_sets = ['struct', 'mean', 'energy', 'yahoo', 'hasc']\n",
    "generate_average_df(algorithms, data_sets, results_path, output_path)\n",
    "# generate_histograms(algorithms, data_sets, results_path, output_path, data_path)"
   ]
  },
  {
   "cell_type": "code",
   "execution_count": 4,
   "metadata": {},
   "outputs": [],
   "source": [
    "x = np.array([[1,2,3], [1,2,3]])"
   ]
  },
  {
   "cell_type": "code",
   "execution_count": 5,
   "metadata": {},
   "outputs": [
    {
     "data": {
      "text/plain": [
       "array([2, 4, 6])"
      ]
     },
     "execution_count": 5,
     "metadata": {},
     "output_type": "execute_result"
    }
   ],
   "source": [
    "x.sum(axis=0)"
   ]
  },
  {
   "cell_type": "code",
   "execution_count": null,
   "metadata": {},
   "outputs": [],
   "source": []
  }
 ],
 "metadata": {
  "kernelspec": {
   "display_name": "Python 3",
   "language": "python",
   "name": "python3"
  },
  "language_info": {
   "codemirror_mode": {
    "name": "ipython",
    "version": 3
   },
   "file_extension": ".py",
   "mimetype": "text/x-python",
   "name": "python",
   "nbconvert_exporter": "python",
   "pygments_lexer": "ipython3",
   "version": "3.7.6"
  }
 },
 "nbformat": 4,
 "nbformat_minor": 4
}

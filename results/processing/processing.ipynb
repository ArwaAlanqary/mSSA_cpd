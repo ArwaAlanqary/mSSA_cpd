{
 "cells": [
  {
   "cell_type": "code",
   "execution_count": 1,
   "metadata": {},
   "outputs": [],
   "source": [
    "import pandas as pd\n",
    "import os\n",
    "import numpy as np\n",
    "import matplotlib.pyplot as plt\n",
    "import glob\n",
    "import json"
   ]
  },
  {
   "cell_type": "code",
   "execution_count": 2,
   "metadata": {},
   "outputs": [],
   "source": [
    "def generate_average_df(algorithms, data_sets, results_path, output_path): \n",
    "    output = {}\n",
    "    for algorithm in algorithms: \n",
    "        output[algorithm] = {}\n",
    "        for data_set in data_sets: \n",
    "            print(algorithm, data_set)\n",
    "            try:\n",
    "                results = pd.read_csv(os.path.join(results_path, algorithm, data_set,'results_table.csv'), header=None)\n",
    "                results = results[4].values\n",
    "                output[algorithm][data_set] = str(round(np.mean(results), 3)) + \" (\" + str(round(np.std(results),3)) +\")\" \n",
    "            except: \n",
    "                output[algorithm][data_set] = \"NA\"\n",
    "    output_df = pd.DataFrame.from_dict(output, orient=\"index\")\n",
    "    output_df.to_latex(os.path.join(output_path, 'average_f1_table.txt'))"
   ]
  },
  {
   "cell_type": "code",
   "execution_count": 3,
   "metadata": {},
   "outputs": [],
   "source": [
    "def generate_histograms(algorithms, data_sets, results_path, output_path, data_path):\n",
    "    output = {}\n",
    "    for algorithm in algorithms: \n",
    "        output[algorithm] = {}\n",
    "        for data_set in data_sets: \n",
    "            files = glob.glob(os.path.join(results_path, algorithm, data_set, '*.json'))\n",
    "            if not files:\n",
    "                output[algorithm][data_set] = \"N/A\"\n",
    "                continue\n",
    "            try:\n",
    "                ARL = []\n",
    "                for file in files: \n",
    "                    with open(file) as f:\n",
    "                        result = json.load(f)\n",
    "                    ts_name = result['data_name']\n",
    "                    if result['score'] is None: continue\n",
    "                    detected = np.array(result['cp'])[:, 0]\n",
    "                    labels = pd.read_csv(os.path.join(data_path, data_set,\"{}_labels.csv\".format(ts_name)), header=None)\n",
    "                    labels = labels.values[:,0]\n",
    "                    selected = np.zeros(len(detected))\n",
    "                    print(len(detected), len(selected))\n",
    "                    for cp in labels:\n",
    "                        dist = (detected-cp).astype(float)\n",
    "                        dist[dist < 0] = np.inf\n",
    "                        min_ = np.min(np.abs(dist) + selected *10000)\n",
    "                        index = np.argmin(np.abs(dist) + selected *10000)\n",
    "                        if min_ < 200:\n",
    "                            ARL.append(dist[index])\n",
    "                            selected[index] = 1\n",
    "                print(algorithm, data_set, len(ARL))\n",
    "#                 output[algorithm][data_set] = str(round(np.mean(np.abs(ARL)), 3)) + \" (\" + str(round(np.std(np.abs(ARL)), 3)) +\"), \" + str(round(np.median(np.abs(ARL)), 3)) \n",
    "                output[algorithm][data_set] =  str(round(np.median(np.abs(ARL)), 3))+ f'({str(len(ARL))})' \n",
    "#                 \n",
    "#                 fig = plt.figure(figsize=(6,4))\n",
    "#                 plt.hist(ARL, bins = 20, color = 'g', alpha=0.7)\n",
    "#                 plt.title('{} ({})'.format(data_set, algorithm))\n",
    "#                 fig.savefig('{}/{}_{}'.format(output_path, data_set, algorithm), dpi = 400)\n",
    "            except: \n",
    "                output[algorithm][data_set] = \"N/A\"\n",
    "    output_df = pd.DataFrame.from_dict(output)\n",
    "    output_df.to_latex(os.path.join(output_path, 'arl_table.txt'))\n",
    "    \n",
    " "
   ]
  },
  {
   "cell_type": "code",
   "execution_count": 110,
   "metadata": {},
   "outputs": [],
   "source": [
    "def generate_arl_plots(algorithms, data_set, results_path, output_path, data_path):\n",
    "    fig = plt.figure(figsize=(7,5))\n",
    "    for algorithm in algorithms:         \n",
    "        print(algorithm)\n",
    "        files = glob.glob(os.path.join(results_path, algorithm, data_set, '*.json'))\n",
    "        if not files:\n",
    "            continue\n",
    "        ARL = []\n",
    "        for file in files: \n",
    "            with open(file) as f:\n",
    "                result = json.load(f)\n",
    "            ts_name = result['data_name']\n",
    "            if result['score'] is None: \n",
    "                continue\n",
    "            detected = np.array(result['cp'])[1:, 0]\n",
    "            labels = pd.read_csv(os.path.join(data_path, data_set,\"{}_labels.csv\".format(ts_name)), header=None)\n",
    "            labels = labels.values[:-1, :]\n",
    "            len_ts = labels[-1,-1]\n",
    "            labels = labels[1:,0]\n",
    "            labels = labels[::-1]\n",
    "            if not len(detected): \n",
    "                ARL = ARL + (np.ones(len(labels))*len_ts).tolist()\n",
    "                continue\n",
    "            for i, cp in enumerate(labels):\n",
    "                dist = (detected-cp).astype(float)\n",
    "                dist[dist < 0] = np.inf\n",
    "                min_ = np.min(dist)\n",
    "                if min_ == np.inf: \n",
    "                    ARL.append(len_ts)\n",
    "                    continue  \n",
    "                index = np.argmin(dist)\n",
    "                detected_cp = detected[index]\n",
    "                if i>0:\n",
    "                    if detected_cp >= labels[i-1]: \n",
    "                        ARL.append(len_ts)\n",
    "                        continue  \n",
    "                ARL.append(min_)                \n",
    "        plt.hist(ARL, cumulative=True, label=algorithm, histtype='step', alpha=0.8)\n",
    "    plt.title('Average Detection Delay ({} dataset)'.format(data_set))\n",
    "    plt.legend(loc='center')\n",
    "    fig.savefig('{}/{}_ARL_CDF.png'.format(output_path, data_set), dpi = 400)\n",
    "\n",
    "        \n",
    "    \n",
    " "
   ]
  },
  {
   "cell_type": "code",
   "execution_count": 113,
   "metadata": {},
   "outputs": [
    {
     "name": "stdout",
     "output_type": "stream",
     "text": [
      "mssa\n",
      "mssa_mw\n",
      "binseg\n",
      "microsoft_ssa\n",
      "bocpdms\n",
      "klcpd\n"
     ]
    },
    {
     "data": {
      "image/png": "[encoded data removed]",
      "text/plain": [
       "<Figure size 504x360 with 1 Axes>"
      ]
     },
     "metadata": {
      "needs_background": "light"
     },
     "output_type": "display_data"
    }
   ],
   "source": [
    "data_path = os.path.join(os.path.dirname(os.path.dirname(os.getcwd())), 'data')\n",
    "results_path = os.path.join(os.path.dirname(os.getcwd()), 'test')\n",
    "output_path = os.path.join(os.path.dirname(os.getcwd()), 'processing')\n",
    "algorithms = ['mssa','mssa_mw', 'binseg', 'microsoft_ssa', 'bocpdms', 'klcpd']\n",
    "data_set = \"energy\"\n",
    "generate_arl_plots(algorithms, data_set, results_path, output_path, data_path)"
   ]
  },
  {
   "cell_type": "code",
   "execution_count": 11,
   "metadata": {},
   "outputs": [
    {
     "data": {
      "text/plain": [
       "(array([10., 10., 10., 10., 10., 12., 12., 12., 12., 13.]),\n",
       " array([  0.,  20.,  40.,  60.,  80., 100., 120., 140., 160., 180., 200.]),\n",
       " [<matplotlib.patches.Polygon at 0x11135a250>])"
      ]
     },
     "execution_count": 11,
     "metadata": {},
     "output_type": "execute_result"
    },
    {
     "data": {
      "image/png": "[encoded data removed]",
      "text/plain": [
       "<Figure size 432x288 with 1 Axes>"
      ]
     },
     "metadata": {
      "needs_background": "light"
     },
     "output_type": "display_data"
    }
   ],
   "source": [
    "ARL = [1,1,1,0,0,0,0,0,0,0,100,100,200]\n",
    "plt.hist(ARL, cumulative=True, label='CDF',\n",
    "         histtype='step', alpha=0.8, color='k')"
   ]
  },
  {
   "cell_type": "code",
   "execution_count": 16,
   "metadata": {},
   "outputs": [
    {
     "data": {
      "text/plain": [
       "[<matplotlib.lines.Line2D at 0x1114c0310>]"
      ]
     },
     "execution_count": 16,
     "metadata": {},
     "output_type": "execute_result"
    },
    {
     "data": {
      "image/png": "[encoded data removed]",
      "text/plain": [
       "<Figure size 432x288 with 1 Axes>"
      ]
     },
     "metadata": {
      "needs_background": "light"
     },
     "output_type": "display_data"
    }
   ],
   "source": [
    "X=sorted(ARL)\n",
    "Y=[]\n",
    "l=len(X)\n",
    "Y.append(float(1)/l)\n",
    "for i in range(2,l+1):\n",
    "    Y.append(float(1)/l+Y[i-2])\n",
    "plt.plot(X,Y,label='xyz')"
   ]
  },
  {
   "cell_type": "code",
   "execution_count": 13,
   "metadata": {},
   "outputs": [
    {
     "data": {
      "text/plain": [
       "[<matplotlib.lines.Line2D at 0x1113c5710>]"
      ]
     },
     "execution_count": 13,
     "metadata": {},
     "output_type": "execute_result"
    },
    {
     "data": {
      "image/png": "[encoded data removed]",
      "text/plain": [
       "<Figure size 432x288 with 1 Axes>"
      ]
     },
     "metadata": {
      "needs_background": "light"
     },
     "output_type": "display_data"
    }
   ],
   "source": [
    "cdf(ARL)"
   ]
  },
  {
   "cell_type": "code",
   "execution_count": 15,
   "metadata": {},
   "outputs": [
    {
     "name": "stdout",
     "output_type": "stream",
     "text": [
      "mssa_mw struct\n",
      "mssa_mw mean\n",
      "mssa_mw energy\n",
      "mssa_mw yahoo\n",
      "mssa_mw hasc\n",
      "binseg struct\n",
      "binseg mean\n",
      "binseg energy\n",
      "binseg yahoo\n",
      "binseg hasc\n",
      "microsoft_ssa struct\n",
      "microsoft_ssa mean\n",
      "microsoft_ssa energy\n",
      "microsoft_ssa yahoo\n",
      "microsoft_ssa hasc\n",
      "bocpdms struct\n",
      "bocpdms mean\n",
      "bocpdms energy\n",
      "bocpdms yahoo\n",
      "bocpdms hasc\n",
      "klcpd struct\n",
      "klcpd mean\n",
      "klcpd energy\n",
      "klcpd yahoo\n",
      "klcpd hasc\n"
     ]
    }
   ],
   "source": [
    "data_path = os.path.join(os.path.dirname(os.path.dirname(os.getcwd())), 'data')\n",
    "results_path = os.path.join(os.path.dirname(os.getcwd()), 'test')\n",
    "output_path = os.path.join(os.path.dirname(os.getcwd()), 'processing')\n",
    "algorithms = ['mssa_mw', 'binseg', 'microsoft_ssa', 'bocpdms', 'klcpd']\n",
    "data_sets = ['struct', 'mean', 'energy', 'yahoo', 'hasc']\n",
    "generate_average_df(algorithms, data_sets, results_path, output_path)\n",
    "# generate_histograms(algorithms, data_sets, results_path, output_path, data_path)"
   ]
  },
  {
   "cell_type": "code",
   "execution_count": 5,
   "metadata": {},
   "outputs": [
    {
     "data": {
      "text/plain": [
       "['/Users/abdullah/Dropbox (MIT)/GitHub/cpd_benchmark/results/test/density_ratio/struct/struct11_417a135f-db7d-4d7f-a2e9-ae7c9e00d43c.json',\n",
       " '/Users/abdullah/Dropbox (MIT)/GitHub/cpd_benchmark/results/test/density_ratio/struct/struct16_c9600a9c-7025-4fd3-8a0d-eecf85b5d939.json',\n",
       " '/Users/abdullah/Dropbox (MIT)/GitHub/cpd_benchmark/results/test/density_ratio/struct/struct13_4d8bfc23-6f51-4681-9a04-e7ad6b67363a.json',\n",
       " '/Users/abdullah/Dropbox (MIT)/GitHub/cpd_benchmark/results/test/density_ratio/struct/struct18_f7564bc9-c254-40b4-9ed3-0ada22aee0ee.json',\n",
       " '/Users/abdullah/Dropbox (MIT)/GitHub/cpd_benchmark/results/test/density_ratio/struct/struct2_73d3b79d-eccd-445a-92ee-d5470b74a505.json',\n",
       " '/Users/abdullah/Dropbox (MIT)/GitHub/cpd_benchmark/results/test/density_ratio/struct/struct12_ae71ba31-9881-421a-9b90-a3333f8c37b2.json',\n",
       " '/Users/abdullah/Dropbox (MIT)/GitHub/cpd_benchmark/results/test/density_ratio/struct/struct7_404f140c-83af-4ea8-9c0a-d77e00a93c4f.json',\n",
       " '/Users/abdullah/Dropbox (MIT)/GitHub/cpd_benchmark/results/test/density_ratio/struct/struct0_e2300bd1-2f8c-4727-901a-1d173c23118a.json',\n",
       " '/Users/abdullah/Dropbox (MIT)/GitHub/cpd_benchmark/results/test/density_ratio/struct/struct1_6b5e603f-290f-44d0-8f7e-ff70dede5f84.json',\n",
       " '/Users/abdullah/Dropbox (MIT)/GitHub/cpd_benchmark/results/test/density_ratio/struct/struct6_2d23b5ee-c01d-4b76-8429-e6903a163171.json',\n",
       " '/Users/abdullah/Dropbox (MIT)/GitHub/cpd_benchmark/results/test/density_ratio/struct/struct3_7b2202b1-ce99-48c9-b5de-790defab62c9.json',\n",
       " '/Users/abdullah/Dropbox (MIT)/GitHub/cpd_benchmark/results/test/density_ratio/struct/struct10_3e54948f-4f11-4eaf-a88b-be4fb247bcae.json',\n",
       " '/Users/abdullah/Dropbox (MIT)/GitHub/cpd_benchmark/results/test/density_ratio/struct/struct5_b78f33a2-43f3-4f99-a419-a1e06072b681.json',\n",
       " '/Users/abdullah/Dropbox (MIT)/GitHub/cpd_benchmark/results/test/density_ratio/struct/struct15_c90c2eeb-5b97-4089-b2c6-4f7d29559294.json',\n",
       " '/Users/abdullah/Dropbox (MIT)/GitHub/cpd_benchmark/results/test/density_ratio/struct/struct19_5ffcbcb4-662f-43ef-8753-9fa28b80cd5e.json',\n",
       " '/Users/abdullah/Dropbox (MIT)/GitHub/cpd_benchmark/results/test/density_ratio/struct/struct17_e5eeb36b-63f5-4f91-af41-848005d149de.json',\n",
       " '/Users/abdullah/Dropbox (MIT)/GitHub/cpd_benchmark/results/test/density_ratio/struct/struct4_d25cb3a3-2b56-41e7-847c-45150ec5c640.json',\n",
       " '/Users/abdullah/Dropbox (MIT)/GitHub/cpd_benchmark/results/test/density_ratio/struct/struct14_b4349564-b9af-4d55-9e9d-4d74546ba929.json',\n",
       " '/Users/abdullah/Dropbox (MIT)/GitHub/cpd_benchmark/results/test/density_ratio/struct/struct9_7880013a-bcb9-46aa-a326-c9f6d1b255f3.json',\n",
       " '/Users/abdullah/Dropbox (MIT)/GitHub/cpd_benchmark/results/test/density_ratio/struct/struct8_5a982b4b-3eab-4679-909e-ff8104120582.json']"
      ]
     },
     "execution_count": 5,
     "metadata": {},
     "output_type": "execute_result"
    }
   ],
   "source": [
    "files = glob.glob(os.path.join(results_path, algorithms[3], data_sets[0], '*.json'))\n",
    "files"
   ]
  },
  {
   "cell_type": "code",
   "execution_count": 20,
   "metadata": {},
   "outputs": [
    {
     "name": "stdout",
     "output_type": "stream",
     "text": [
      "[[    0   299]\n",
      " [  300   479]\n",
      " [  480   826]\n",
      " [  827  1942]\n",
      " [ 1943  2015]\n",
      " [ 2016  4832]\n",
      " [ 4833  5999]\n",
      " [ 6000  6773]\n",
      " [ 6774  8827]\n",
      " [ 8828  9240]\n",
      " [ 9241 10751]\n",
      " [10752 11767]]\n",
      "[    0 11856]\n"
     ]
    },
    {
     "ename": "IndexError",
     "evalue": "too many indices for array: array is 1-dimensional, but 2 were indexed",
     "output_type": "error",
     "traceback": [
      "\u001b[0;31m---------------------------------------------------------------------------\u001b[0m",
      "\u001b[0;31mIndexError\u001b[0m                                Traceback (most recent call last)",
      "\u001b[0;32m<ipython-input-20-a9c949e5b155>\u001b[0m in \u001b[0;36m<module>\u001b[0;34m\u001b[0m\n\u001b[1;32m      4\u001b[0m     \u001b[0mts_name\u001b[0m \u001b[0;34m=\u001b[0m \u001b[0mresult\u001b[0m\u001b[0;34m[\u001b[0m\u001b[0;34m'data_name'\u001b[0m\u001b[0;34m]\u001b[0m\u001b[0;34m\u001b[0m\u001b[0;34m\u001b[0m\u001b[0m\n\u001b[1;32m      5\u001b[0m     \u001b[0mprint\u001b[0m\u001b[0;34m(\u001b[0m\u001b[0mnp\u001b[0m\u001b[0;34m.\u001b[0m\u001b[0marray\u001b[0m\u001b[0;34m(\u001b[0m\u001b[0mresult\u001b[0m\u001b[0;34m[\u001b[0m\u001b[0;34m'cp'\u001b[0m\u001b[0;34m]\u001b[0m\u001b[0;34m)\u001b[0m\u001b[0;34m)\u001b[0m\u001b[0;34m\u001b[0m\u001b[0;34m\u001b[0m\u001b[0m\n\u001b[0;32m----> 6\u001b[0;31m     \u001b[0mnp\u001b[0m\u001b[0;34m.\u001b[0m\u001b[0marray\u001b[0m\u001b[0;34m(\u001b[0m\u001b[0mresult\u001b[0m\u001b[0;34m[\u001b[0m\u001b[0;34m'cp'\u001b[0m\u001b[0;34m]\u001b[0m\u001b[0;34m)\u001b[0m\u001b[0;34m[\u001b[0m\u001b[0;34m:\u001b[0m\u001b[0;34m,\u001b[0m \u001b[0;36m0\u001b[0m\u001b[0;34m]\u001b[0m\u001b[0;34m\u001b[0m\u001b[0;34m\u001b[0m\u001b[0m\n\u001b[0m",
      "\u001b[0;31mIndexError\u001b[0m: too many indices for array: array is 1-dimensional, but 2 were indexed"
     ]
    }
   ],
   "source": [
    "for file in files: \n",
    "    with open(file) as f:\n",
    "        result = json.load(f)\n",
    "    ts_name = result['data_name']\n",
    "    print(np.array(result['cp']))\n",
    "    np.array(result['cp'])[:, 0]"
   ]
  },
  {
   "cell_type": "code",
   "execution_count": null,
   "metadata": {},
   "outputs": [],
   "source": []
  }
 ],
 "metadata": {
  "kernelspec": {
   "display_name": "Python 3",
   "language": "python",
   "name": "python3"
  },
  "language_info": {
   "codemirror_mode": {
    "name": "ipython",
    "version": 3
   },
   "file_extension": ".py",
   "mimetype": "text/x-python",
   "name": "python",
   "nbconvert_exporter": "python",
   "pygments_lexer": "ipython3",
   "version": "3.7.6"
  }
 },
 "nbformat": 4,
 "nbformat_minor": 4
}

{
 "cells": [
  {
   "cell_type": "markdown",
   "metadata": {},
   "source": [
    "# Recreating the Nile result"
   ]
  },
  {
   "cell_type": "code",
   "execution_count": 1,
   "metadata": {},
   "outputs": [],
   "source": [
    "import csv\n",
    "import datetime\n",
    "import matplotlib\n",
    "import matplotlib.pylab as plt\n",
    "import matplotlib.dates as mdates\n",
    "import numpy as np\n",
    "import os\n",
    "import pytest\n",
    "import sys\n",
    "%matplotlib inline\n",
    "\n",
    "sys.path.append('..')\n",
    "\n",
    "from cp_probability_model import CpModel\n",
    "from BVAR_NIG import BVARNIG\n",
    "from detector import Detector\n",
    "from Evaluation_tool import EvaluationTool"
   ]
  },
  {
   "cell_type": "markdown",
   "metadata": {},
   "source": [
    "### Read in the data"
   ]
  },
  {
   "cell_type": "code",
   "execution_count": 2,
   "metadata": {},
   "outputs": [],
   "source": [
    "nile_file = os.path.join(os.getcwd(), \"..\", \"Data\", \"nile.txt\")\n",
    "raw_data = []\n",
    "count = 0\n",
    "with open(nile_file) as csvfile:\n",
    "    reader = csv.reader(csvfile)\n",
    "    for row in reader:\n",
    "        raw_data += row\n",
    "\n",
    "raw_data_float = []\n",
    "for entry in raw_data:\n",
    "    raw_data_float.append(float(entry))\n",
    "raw_data = raw_data_float\n"
   ]
  },
  {
   "cell_type": "markdown",
   "metadata": {},
   "source": [
    "### Put data into format compatible with the Detector class"
   ]
  },
  {
   "cell_type": "code",
   "execution_count": 3,
   "metadata": {},
   "outputs": [],
   "source": [
    "T = int(len(raw_data) / 2)\n",
    "S1, S2 = 1, 1\n",
    "data = np.array(raw_data).reshape(T, 2)\n",
    "dates = data[:, 0]\n",
    "river_height = data[:, 1]\n",
    "mean, variance = np.mean(river_height), np.var(river_height)\n",
    "river_height = (river_height - mean) / np.sqrt(variance)\n",
    "\n",
    "\"\"\"STEP 3: Get dates\"\"\"\n",
    "all_dates = []\n",
    "for i in range(622+2, 1285):\n",
    "    all_dates.append(datetime.date(i, 1,1))\n"
   ]
  },
  {
   "cell_type": "markdown",
   "metadata": {},
   "source": [
    "### Set up initial hyperparameters and lag lengths\n",
    "\n",
    "These values will be updated and optimised as we go along."
   ]
  },
  {
   "cell_type": "code",
   "execution_count": 4,
   "metadata": {},
   "outputs": [],
   "source": [
    "intensity = 100\n",
    "cp_model = CpModel(intensity)\n",
    "a, b = 1, 1\n",
    "prior_mean_scale, prior_var_scale = 0, 0.075"
   ]
  },
  {
   "cell_type": "markdown",
   "metadata": {},
   "source": [
    "### Set up the autoregression models\n",
    "\n",
    "For a set of initial hyperparameters across a range of lag times, generate the model objects."
   ]
  },
  {
   "cell_type": "code",
   "execution_count": 5,
   "metadata": {},
   "outputs": [],
   "source": [
    "upper_AR = 3\n",
    "lower_AR = 1\n",
    "AR_models = []\n",
    "\n",
    "for lag in range(lower_AR, upper_AR + 1):\n",
    "    \"\"\"Generate next model object\"\"\"\n",
    "    AR_models += [BVARNIG(\n",
    "        prior_a=a, prior_b=b,\n",
    "        S1=S1, S2=S2,\n",
    "        prior_mean_scale=prior_mean_scale,\n",
    "        prior_var_scale=prior_var_scale,\n",
    "        intercept_grouping=None,\n",
    "        nbh_sequence=[0] * lag,\n",
    "        restriction_sequence=[0] * lag,\n",
    "        hyperparameter_optimization=\"online\")]\n"
   ]
  },
  {
   "cell_type": "markdown",
   "metadata": {},
   "source": [
    "### Create the model universe \n",
    "\n",
    "Put all the model objects together, create model universe and the model priors.\n"
   ]
  },
  {
   "cell_type": "code",
   "execution_count": 6,
   "metadata": {},
   "outputs": [],
   "source": [
    "model_universe = np.array(AR_models)\n",
    "model_prior = np.array([1 / len(model_universe)] * len(model_universe))"
   ]
  },
  {
   "cell_type": "markdown",
   "metadata": {},
   "source": [
    "### Build and run the detector"
   ]
  },
  {
   "cell_type": "code",
   "execution_count": null,
   "metadata": {},
   "outputs": [],
   "source": []
  },
  {
   "cell_type": "code",
   "execution_count": 7,
   "metadata": {},
   "outputs": [
    {
     "name": "stdout",
     "output_type": "stream",
     "text": [
      "Initializing BVAR object\n",
      "Initializing BVAR object\n",
      "Initializing BVAR object\n",
      "Processing observation #50\n",
      "Last iteration took 0.02185644600000014 seconds\n",
      "Processing observation #100\n",
      "Last iteration took 0.02313601899999984 seconds\n",
      "Processing observation #150\n",
      "Last iteration took 0.017225827999999943 seconds\n",
      "Processing observation #200\n",
      "Last iteration took 0.021389671000000554 seconds\n",
      "Processing observation #250\n",
      "Last iteration took 0.019469242999999636 seconds\n",
      "Processing observation #300\n",
      "Last iteration took 0.018416655000000226 seconds\n",
      "Processing observation #350\n",
      "Last iteration took 0.020114790999999244 seconds\n",
      "Processing observation #400\n",
      "Last iteration took 0.06588933599999969 seconds\n",
      "Processing observation #450\n",
      "Last iteration took 0.018745616000000354 seconds\n",
      "Processing observation #500\n",
      "Last iteration took 0.02035073699999934 seconds\n",
      "Processing observation #550\n",
      "Last iteration took 0.02278785900000102 seconds\n",
      "Processing observation #600\n",
      "Last iteration took 0.04124334199999957 seconds\n",
      "Processing observation #650\n",
      "Last iteration took 0.030681625999999795 seconds\n"
     ]
    }
   ],
   "source": [
    "detector = Detector(\n",
    "    data=river_height,\n",
    "    model_universe=model_universe,\n",
    "    model_prior=model_prior,\n",
    "    cp_model=cp_model,\n",
    "    S1=S1, S2=S2, T=T,\n",
    "    store_rl=True, store_mrl=True,\n",
    "    trim_type=\"keep_K\", threshold=50,\n",
    "    notifications=50,\n",
    "    save_performance_indicators=True,\n",
    "    generalized_bayes_rld=\"kullback_leibler\",\n",
    "    alpha_param_learning=\"individual\",\n",
    "    alpha_param=0.01,\n",
    "    alpha_param_opt_t=30,\n",
    "    alpha_rld_learning=True,\n",
    "    loss_der_rld_learning=\"squared_loss\",\n",
    "    loss_param_learning=\"squared_loss\")\n",
    "detector.run()"
   ]
  },
  {
   "cell_type": "code",
   "execution_count": 8,
   "metadata": {},
   "outputs": [
    {
     "name": "stdout",
     "output_type": "stream",
     "text": [
      "MSE: 0.548\n",
      "NLL: 1.117\n"
     ]
    }
   ],
   "source": [
    "print ('MSE: {:3.3f}'.format(np.mean(detector.MSE)))\n",
    "print ('NLL: {:3.3f}'.format(np.mean(detector.negative_log_likelihood)))"
   ]
  },
  {
   "cell_type": "code",
   "execution_count": 9,
   "metadata": {},
   "outputs": [],
   "source": [
    "EvT = EvaluationTool()\n",
    "EvT.build_EvaluationTool_via_run_detector(detector)"
   ]
  },
  {
   "cell_type": "code",
   "execution_count": 10,
   "metadata": {},
   "outputs": [
    {
     "name": "stdout",
     "output_type": "stream",
     "text": [
      "rmax =  660\n"
     ]
    },
    {
     "data": {
      "image/png": "[encoded data removed]",
      "text/plain": [
       "<Figure size 576x360 with 3 Axes>"
      ]
     },
     "metadata": {
      "needs_background": "light"
     },
     "output_type": "display_data"
    }
   ],
   "source": [
    "\"\"\"get MAP CPs in range\"\"\"\n",
    "segmentation = np.array(EvT.results[EvT.names.index(\"MAP CPs\")][-2])\n",
    "models = np.union1d([e[1] for e in segmentation],\n",
    "                    [e[1] for e in segmentation]) \n",
    "\n",
    "\n",
    "\"\"\"Obtain the plot for RLD\"\"\"\n",
    "start, stop = (2007 + 7/12), 2009\n",
    "#start, stop = datetime.date(2007, 8, 1), datetime.date(2008, 12, 31)\n",
    "height_ratio =[10,14]\n",
    "custom_colors = [\"blue\", \"purple\"] #[\"green\", \"darkviolet\", \"orange\", \"purple\", \"turquoise\"]\n",
    "fig, ax_array = plt.subplots(2, figsize=(8,5), sharex = True, \n",
    "                             gridspec_kw = {'height_ratios':height_ratio})\n",
    "plt.subplots_adjust(hspace = .35, left = None, bottom = None, right = None, top = None)\n",
    "\n",
    "\"\"\"Get the date format\"\"\"\n",
    "years = mdates.YearLocator()   # every year\n",
    "yearsFmt = mdates.DateFormatter('%Y')\n",
    "\n",
    "\"\"\"placement of y-labels\"\"\"\n",
    "ylabel_coords = [-0.065, 0.5]\n",
    "\n",
    "EvT.plot_raw_TS(river_height[2:].reshape(T-2,1), \n",
    "                indices = [0], \n",
    "                xlab = None, \n",
    "                show_MAP_CPs = True, \n",
    "                           time_range = np.linspace(1,\n",
    "                             T-2, \n",
    "                             T-2, dtype=int), \n",
    "                           print_plt = False,\n",
    "                       ylab = \"River Height\", ax = ax_array[0],\n",
    "                       all_dates = np.linspace(622 + 1, 1284, 1284 - (622 + 1), dtype = int),#None, #all_dates, \n",
    "                       custom_colors_series = [\"black\"],\n",
    "                       custom_colors_CPs = [\"blue\", \"blue\"],\n",
    "                       custom_linestyles = [\"solid\"]*2,\n",
    "                       ylab_fontsize = 14,\n",
    "                       ylabel_coords = ylabel_coords,\n",
    "                       set_ylims = (-2.75, 3.95)\n",
    "                       )\n",
    "\n",
    "EvT.plot_run_length_distr(\n",
    "    buffer=0, \n",
    "    show_MAP_CPs = True, \n",
    "    mark_median = False, \n",
    "    mark_max = True, \n",
    "    upper_limit = 660, \n",
    "    print_colorbar = True, \n",
    "    colorbar_location= 'bottom',\n",
    "    log_format = True, \n",
    "    aspect_ratio = 'auto', \n",
    "    C1=0,C2=1, \n",
    "    time_range = np.linspace(1,\n",
    "                             T-2, \n",
    "                             T-2, dtype=int), \n",
    "    start = 622 + 2, stop = 1284, #start=start, stop = stop, \n",
    "    all_dates = None, #all_dates,\n",
    "    event_time_list=[715 ],#datetime.date(715,1,1)], \n",
    "    label_list=[\"nilometer\"], space_to_colorbar = 0.52,\n",
    "    custom_colors = [\"blue\", \"blue\"], #[\"blue\"]*len(event_time_list),\n",
    "    custom_linestyles = [\"solid\"]*3,\n",
    "    custom_linewidth = 3,\n",
    "    arrow_colors= [\"black\"],\n",
    "    number_fontsize = 14,\n",
    "    arrow_length = 135,\n",
    "    arrow_thickness = 3.0,\n",
    "    xlab_fontsize =14,\n",
    "    ylab_fontsize = 14, \n",
    "    arrows_setleft_indices = [0],\n",
    "    arrows_setleft_by = [50],\n",
    "    zero_distance = 0.0,\n",
    "    ax = ax_array[1], figure = fig,\n",
    "    no_transform = True,\n",
    "    date_instructions_formatter = None, #yearsFmt,\n",
    "    date_instructions_locator = None,\n",
    "    ylabel_coords = ylabel_coords,\n",
    "    xlab = \"Year\",\n",
    "    arrow_distance = 25\n",
    "    )\n",
    "\n",
    "plt.show()\n"
   ]
  }
 ],
 "metadata": {
  "kernelspec": {
   "display_name": "Python [conda env:bocpdms]",
   "language": "python",
   "name": "conda-env-bocpdms-py"
  },
  "language_info": {
   "codemirror_mode": {
    "name": "ipython",
    "version": 3
   },
   "file_extension": ".py",
   "mimetype": "text/x-python",
   "name": "python",
   "nbconvert_exporter": "python",
   "pygments_lexer": "ipython3",
   "version": "3.7.0"
  }
 },
 "nbformat": 4,
 "nbformat_minor": 2
}

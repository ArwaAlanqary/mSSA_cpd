{
 "cells": [
  {
   "cell_type": "code",
   "execution_count": 1,
   "metadata": {},
   "outputs": [],
   "source": [
    "import numpy as np\n",
    "import pandas as pd\n",
    "import os\n",
    "from nimbusml.timeseries import SsaChangePointDetector\n",
    "import matplotlib.pyplot as plt\n",
    "import microsoft_SsaChangePointDetector\n"
   ]
  },
  {
   "cell_type": "code",
   "execution_count": 2,
   "metadata": {},
   "outputs": [],
   "source": [
    "dataset = 'SynthMean'\n",
    "data_path = os.path.join(os.path.dirname(os.getcwd()), \"Data\")\n",
    "data = pd.read_csv(os.path.join(data_path, dataset, \"ts.csv\"), header=None)\n",
    "labels = pd.read_csv(os.path.join(data_path, dataset, \"labels.csv\"), header=None)\n",
    "ts = data[1].values\n"
   ]
  },
  {
   "cell_type": "code",
   "execution_count": 3,
   "metadata": {},
   "outputs": [],
   "source": [
    "score, cp = microsoft_SsaChangePointDetector.detect(ts, base_window_size=15, seasonal_window_size=6, change_history_length=8, \n",
    "                error_function='AbsoluteDifference', martingale='Power', power_martingale_epsilon=0.1, confidence=95.0, \n",
    "                columns=None)"
   ]
  },
  {
   "cell_type": "code",
   "execution_count": null,
   "metadata": {},
   "outputs": [],
   "source": []
  }
 ],
 "metadata": {
  "kernelspec": {
   "display_name": "Python 3",
   "language": "python",
   "name": "python3"
  },
  "language_info": {
   "codemirror_mode": {
    "name": "ipython",
    "version": 3
   },
   "file_extension": ".py",
   "mimetype": "text/x-python",
   "name": "python",
   "nbconvert_exporter": "python",
   "pygments_lexer": "ipython3",
   "version": "3.7.6"
  }
 },
 "nbformat": 4,
 "nbformat_minor": 4
}

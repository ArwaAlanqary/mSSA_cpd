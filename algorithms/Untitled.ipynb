{
 "cells": [
  {
   "cell_type": "code",
   "execution_count": null,
   "metadata": {},
   "outputs": [],
   "source": [
    "import os\n",
    "import numpy as np\n",
    "import pandas as pd\n",
    "\n"
   ]
  },
  {
   "cell_type": "code",
   "execution_count": 1,
   "metadata": {},
   "outputs": [],
   "source": [
    "def _compute_recall(actual, detected, margin=0):\n",
    "    \"\"\"\n",
    "    Compute an accuracy score between the ground truth and the detected anomalies.\n",
    "    Args:\n",
    "        actual (list of tuples):\n",
    "            Ground truth intervals.\n",
    "        observed (list of tuples):\n",
    "            Detected intervals.\n",
    "        margin (int):\n",
    "            The margin of error allowed in the time of change detection.\n",
    "            \n",
    "    Returns:\n",
    "        recall (float):\n",
    "            Recall score between the ground truth and detected change points.\n",
    "    \"\"\"\n",
    "    \n",
    "    actual_cp_number = len(actual)\n",
    "    true_positive = _compute_true_positive(actual, detected, margin)\n",
    "    return \n",
    "    \n",
    "def _compute_true_positive(actual, detected, margin=0):\n",
    "    \"\"\"\n",
    "    Compute the number of true positive change points.\n",
    "    Args:\n",
    "        actual (list of tuples):\n",
    "            Ground truth intervals.\n",
    "        observed (list of tuples):\n",
    "            Detected intervals.\n",
    "        margin (int):\n",
    "            The margin of error allowed in the time of change detection.\n",
    "            \n",
    "    Returns:\n",
    "        true_positive (int):\n",
    "            Number of correctly detected change points within the specified margin of error. \n",
    "    \"\"\"\n",
    "    \n",
    "    actual_cp = np.array(actual)[:, 0]\n",
    "    detected_cp = np.array(detected)[:, 0]\n",
    "    true_positive = 0\n",
    "    for cp in actual_cp: \n",
    "        if min(np.abs(detected_cp - cp)) <= margin: \n",
    "            true_positive += 1\n",
    "    return true_positive\n",
    "    \n",
    "    \n",
    "    "
   ]
  },
  {
   "cell_type": "code",
   "execution_count": null,
   "metadata": {},
   "outputs": [],
   "source": []
  }
 ],
 "metadata": {
  "kernelspec": {
   "display_name": "Python 3",
   "language": "python",
   "name": "python3"
  },
  "language_info": {
   "codemirror_mode": {
    "name": "ipython",
    "version": 3
   },
   "file_extension": ".py",
   "mimetype": "text/x-python",
   "name": "python",
   "nbconvert_exporter": "python",
   "pygments_lexer": "ipython3",
   "version": "3.7.6"
  }
 },
 "nbformat": 4,
 "nbformat_minor": 4
}

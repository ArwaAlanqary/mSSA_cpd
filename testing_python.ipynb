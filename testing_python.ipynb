{
 "cells": [
  {
   "cell_type": "code",
   "execution_count": 2,
   "metadata": {},
   "outputs": [],
   "source": [
    "import sys\n",
    "import os\n",
    "sys.path.append(os.path.join(os.getcwd(), \"algorithms\"))\n",
    "sys.path.append(os.path.join(os.getcwd(), \"evaluation\"))\n",
    "sys.path.append(os.path.join(os.getcwd(), \"optimizing\"))"
   ]
  },
  {
   "cell_type": "code",
   "execution_count": 8,
   "metadata": {},
   "outputs": [],
   "source": [
    "import numpy as np\n",
    "import pandas as pd\n",
    "import os\n",
    "from microsoft_ssa import microsoft_ssa\n",
    "from grid_search import grid_search\n",
    "from classification import compute_f1_score"
   ]
  },
  {
   "cell_type": "code",
   "execution_count": 6,
   "metadata": {},
   "outputs": [],
   "source": [
    "## Define shared parameters\n",
    "margin = 10\n"
   ]
  },
  {
   "cell_type": "markdown",
   "metadata": {},
   "source": [
    "# Load Data "
   ]
  },
  {
   "cell_type": "code",
   "execution_count": 5,
   "metadata": {},
   "outputs": [],
   "source": [
    "dataset = 'synth'\n",
    "dataname = 'struct'\n",
    "data_path = os.path.join(os.getcwd(), \"Data\")\n",
    "data = pd.read_csv(os.path.join(data_path, dataset, \"{}_ts.csv\".format(dataname)), header=None)\n",
    "labels = pd.read_csv(os.path.join(data_path, dataset, \"{}_labels.csv\".format(dataname)), header=None)\n",
    "ts = data[1].values\n"
   ]
  },
  {
   "cell_type": "markdown",
   "metadata": {},
   "source": [
    "# Algorithms"
   ]
  },
  {
   "cell_type": "markdown",
   "metadata": {},
   "source": [
    "## Microsoft SSA "
   ]
  },
  {
   "cell_type": "code",
   "execution_count": 9,
   "metadata": {},
   "outputs": [],
   "source": [
    "## Perform Grid search \n",
    "param = {'training_window_size': [50],\n",
    "         'seasonal_window_size':[10,5],\n",
    "         'change_history_length':[8], \n",
    "         'error_function': ['SignedDifference','AbsoluteDifference', 'SignedProportion', 'AbsoluteProportion', 'SquaredDifference'], \n",
    "         'martingale': ['Power', 'Mixture'], \n",
    "         'power_martingale_epsilon': [0.1], \n",
    "         'confidence': [95.0], \n",
    "         'columns': [{'result': 'ts'}]}\n",
    "\n",
    "optimizer = grid_search(param, microsoft_ssa, compute_f1_score)\n",
    "optimizer.search(ts, labels, margin)\n"
   ]
  },
  {
   "cell_type": "code",
   "execution_count": 14,
   "metadata": {},
   "outputs": [],
   "source": [
    "## Generate model results with best parameteres\n",
    "model = microsoft_ssa(**optimizer.best_param)\n",
    "model.train()\n",
    "model.detect(ts)\n"
   ]
  },
  {
   "cell_type": "code",
   "execution_count": null,
   "metadata": {},
   "outputs": [],
   "source": []
  }
 ],
 "metadata": {
  "kernelspec": {
   "display_name": "Python 3",
   "language": "python",
   "name": "python3"
  },
  "language_info": {
   "codemirror_mode": {
    "name": "ipython",
    "version": 3
   },
   "file_extension": ".py",
   "mimetype": "text/x-python",
   "name": "python",
   "nbconvert_exporter": "python",
   "pygments_lexer": "ipython3",
   "version": "3.7.6"
  }
 },
 "nbformat": 4,
 "nbformat_minor": 4
}
